{
 "cells": [
  {
   "cell_type": "code",
   "execution_count": 1,
   "id": "f00e1577",
   "metadata": {
    "_cell_guid": "b1076dfc-b9ad-4769-8c92-a6c4dae69d19",
    "_uuid": "8f2839f25d086af736a60e9eeb907d3b93b6e0e5",
    "execution": {
     "iopub.execute_input": "2024-04-02T05:33:51.261625Z",
     "iopub.status.busy": "2024-04-02T05:33:51.261320Z",
     "iopub.status.idle": "2024-04-02T05:33:51.968619Z",
     "shell.execute_reply": "2024-04-02T05:33:51.967638Z"
    },
    "id": "-J4rzEBLnZcx",
    "papermill": {
     "duration": 0.727393,
     "end_time": "2024-04-02T05:33:51.970893",
     "exception": false,
     "start_time": "2024-04-02T05:33:51.243500",
     "status": "completed"
    },
    "tags": []
   },
   "outputs": [
    {
     "name": "stdout",
     "output_type": "stream",
     "text": [
      "/kaggle/input/recipe-for-rating-predict-food-ratings-using-ml/sample.csv\n",
      "/kaggle/input/recipe-for-rating-predict-food-ratings-using-ml/train.csv\n",
      "/kaggle/input/recipe-for-rating-predict-food-ratings-using-ml/test.csv\n"
     ]
    }
   ],
   "source": [
    "  # This Python 3 environment comes with many helpful analytics libraries installed\n",
    "# It is defined by the kaggle/python Docker image: https://github.com/kaggle/docker-python\n",
    "# For example, here's several helpful packages to load\n",
    "\n",
    "import numpy as np # linear algebra\n",
    "import pandas as pd # data processing, CSV file I/O (e.g. pd.read_csv)\n",
    "\n",
    "# Input data files are available in the read-only \"../input/\" directory\n",
    "# For example, running this (by clicking run or pressing Shift+Enter) will list all files under the input directory\n",
    "\n",
    "import os\n",
    "for dirname, _, filenames in os.walk('/kaggle/input'):\n",
    "    for filename in filenames:\n",
    "        print(os.path.join(dirname, filename))\n",
    "\n",
    "\n",
    "# You can write up to 20GB to the current directory (/kaggle/working/) that gets preserved as output when you create a version using \"Save & Run All\"\n",
    "# You can also write temporary files to /kaggle/temp/, but they won't be saved outside of the current session"
   ]
  },
  {
   "cell_type": "markdown",
   "id": "b03a03b8",
   "metadata": {
    "papermill": {
     "duration": 0.016154,
     "end_time": "2024-04-02T05:33:52.003995",
     "exception": false,
     "start_time": "2024-04-02T05:33:51.987841",
     "status": "completed"
    },
    "tags": []
   },
   "source": [
    "# Importing the train and test data\n",
    "\n",
    "In this piece of code we will be importing the dataset uploaded in this notebook as the input."
   ]
  },
  {
   "cell_type": "code",
   "execution_count": 2,
   "id": "b90e9a50",
   "metadata": {
    "execution": {
     "iopub.execute_input": "2024-04-02T05:33:52.038841Z",
     "iopub.status.busy": "2024-04-02T05:33:52.038401Z",
     "iopub.status.idle": "2024-04-02T05:33:52.236886Z",
     "shell.execute_reply": "2024-04-02T05:33:52.235847Z"
    },
    "id": "ckysxWOnnZcy",
    "papermill": {
     "duration": 0.218103,
     "end_time": "2024-04-02T05:33:52.239391",
     "exception": false,
     "start_time": "2024-04-02T05:33:52.021288",
     "status": "completed"
    },
    "tags": []
   },
   "outputs": [],
   "source": [
    "test_data = pd.read_csv(\"/kaggle/input/recipe-for-rating-predict-food-ratings-using-ml/test.csv\")\n",
    "train_data = pd.read_csv(\"/kaggle/input/recipe-for-rating-predict-food-ratings-using-ml/train.csv\")"
   ]
  },
  {
   "cell_type": "markdown",
   "id": "305379e0",
   "metadata": {
    "papermill": {
     "duration": 0.016023,
     "end_time": "2024-04-02T05:33:52.272225",
     "exception": false,
     "start_time": "2024-04-02T05:33:52.256202",
     "status": "completed"
    },
    "tags": []
   },
   "source": [
    "# Exploring Data\n",
    "\n",
    "We will be exploring the data available with us. We will be exploring the types of columns available with us. As we already have data card available in the competetion , so we won't be wasting much time on understanding each column . But we will be surely having an eye on the statistics of the numerical columns available in the data set."
   ]
  },
  {
   "cell_type": "code",
   "execution_count": 3,
   "id": "e6ff04f3",
   "metadata": {
    "execution": {
     "iopub.execute_input": "2024-04-02T05:33:52.305965Z",
     "iopub.status.busy": "2024-04-02T05:33:52.305561Z",
     "iopub.status.idle": "2024-04-02T05:33:52.325044Z",
     "shell.execute_reply": "2024-04-02T05:33:52.324183Z"
    },
    "id": "ISOoODXIZZKK",
    "outputId": "4a03152a-d9f0-44c6-fcda-055d335acf60",
    "papermill": {
     "duration": 0.038717,
     "end_time": "2024-04-02T05:33:52.326986",
     "exception": false,
     "start_time": "2024-04-02T05:33:52.288269",
     "status": "completed"
    },
    "tags": []
   },
   "outputs": [
    {
     "data": {
      "text/html": [
       "<div>\n",
       "<style scoped>\n",
       "    .dataframe tbody tr th:only-of-type {\n",
       "        vertical-align: middle;\n",
       "    }\n",
       "\n",
       "    .dataframe tbody tr th {\n",
       "        vertical-align: top;\n",
       "    }\n",
       "\n",
       "    .dataframe thead th {\n",
       "        text-align: right;\n",
       "    }\n",
       "</style>\n",
       "<table border=\"1\" class=\"dataframe\">\n",
       "  <thead>\n",
       "    <tr style=\"text-align: right;\">\n",
       "      <th></th>\n",
       "      <th>ID</th>\n",
       "      <th>RecipeNumber</th>\n",
       "      <th>RecipeCode</th>\n",
       "      <th>RecipeName</th>\n",
       "      <th>CommentID</th>\n",
       "      <th>UserID</th>\n",
       "      <th>UserName</th>\n",
       "      <th>UserReputation</th>\n",
       "      <th>CreationTimestamp</th>\n",
       "      <th>ReplyCount</th>\n",
       "      <th>ThumbsUpCount</th>\n",
       "      <th>ThumbsDownCount</th>\n",
       "      <th>Rating</th>\n",
       "      <th>BestScore</th>\n",
       "      <th>Recipe_Review</th>\n",
       "    </tr>\n",
       "  </thead>\n",
       "  <tbody>\n",
       "    <tr>\n",
       "      <th>0</th>\n",
       "      <td>70</td>\n",
       "      <td>71</td>\n",
       "      <td>12259</td>\n",
       "      <td>Banana Bars with Cream Cheese Frosting</td>\n",
       "      <td>sp_aUSaElGf_12259_c_149978</td>\n",
       "      <td>u_1oKVaBmiEKwAFyiHrDLoWpbel0J</td>\n",
       "      <td>misscoffeepot</td>\n",
       "      <td>20</td>\n",
       "      <td>1622717078</td>\n",
       "      <td>0</td>\n",
       "      <td>0</td>\n",
       "      <td>0</td>\n",
       "      <td>5</td>\n",
       "      <td>100</td>\n",
       "      <td>great recipe! I have made them just as written...</td>\n",
       "    </tr>\n",
       "    <tr>\n",
       "      <th>1</th>\n",
       "      <td>72</td>\n",
       "      <td>88</td>\n",
       "      <td>8202</td>\n",
       "      <td>Simple Taco Soup</td>\n",
       "      <td>sp_aUSaElGf_8202_c_310332</td>\n",
       "      <td>u_1oKZeRIXYzGNhGW8OMR3O4lX1ih</td>\n",
       "      <td>MichelleMalone</td>\n",
       "      <td>1</td>\n",
       "      <td>1622717852</td>\n",
       "      <td>0</td>\n",
       "      <td>0</td>\n",
       "      <td>1</td>\n",
       "      <td>5</td>\n",
       "      <td>100</td>\n",
       "      <td>This is an easy and quick recipe that is great...</td>\n",
       "    </tr>\n",
       "    <tr>\n",
       "      <th>2</th>\n",
       "      <td>458</td>\n",
       "      <td>3</td>\n",
       "      <td>2832</td>\n",
       "      <td>Cheeseburger Soup</td>\n",
       "      <td>sp_aUSaElGf_2832_c_206522</td>\n",
       "      <td>u_1oKYHUtdaD48KJCDYq5wfpAUxWz</td>\n",
       "      <td>jeannem32</td>\n",
       "      <td>1</td>\n",
       "      <td>1622717357</td>\n",
       "      <td>0</td>\n",
       "      <td>0</td>\n",
       "      <td>0</td>\n",
       "      <td>3</td>\n",
       "      <td>100</td>\n",
       "      <td>I think I was looking for something extra spec...</td>\n",
       "    </tr>\n",
       "    <tr>\n",
       "      <th>3</th>\n",
       "      <td>7</td>\n",
       "      <td>50</td>\n",
       "      <td>100276</td>\n",
       "      <td>Grilled Huli Huli Chicken</td>\n",
       "      <td>sp_aUSaElGf_100276_c_434088</td>\n",
       "      <td>u_1oKZCQcKQZdQhDVBS7oISc216VA</td>\n",
       "      <td>ds422</td>\n",
       "      <td>1</td>\n",
       "      <td>1622648899</td>\n",
       "      <td>0</td>\n",
       "      <td>0</td>\n",
       "      <td>0</td>\n",
       "      <td>5</td>\n",
       "      <td>100</td>\n",
       "      <td>This is our favorite grilled chicken recipe.  ...</td>\n",
       "    </tr>\n",
       "    <tr>\n",
       "      <th>4</th>\n",
       "      <td>60</td>\n",
       "      <td>12</td>\n",
       "      <td>19731</td>\n",
       "      <td>Cauliflower Soup</td>\n",
       "      <td>sp_aUSaElGf_19731_c_387011</td>\n",
       "      <td>u_1oKd4sudZQPgu6YALiC7bW7mKMs</td>\n",
       "      <td>SusanHoward</td>\n",
       "      <td>1</td>\n",
       "      <td>1622718260</td>\n",
       "      <td>0</td>\n",
       "      <td>0</td>\n",
       "      <td>0</td>\n",
       "      <td>4</td>\n",
       "      <td>100</td>\n",
       "      <td>Great basic recipe. I added 2 teaspoons Tuscan...</td>\n",
       "    </tr>\n",
       "  </tbody>\n",
       "</table>\n",
       "</div>"
      ],
      "text/plain": [
       "    ID  RecipeNumber  RecipeCode                              RecipeName  \\\n",
       "0   70            71       12259  Banana Bars with Cream Cheese Frosting   \n",
       "1   72            88        8202                        Simple Taco Soup   \n",
       "2  458             3        2832                       Cheeseburger Soup   \n",
       "3    7            50      100276               Grilled Huli Huli Chicken   \n",
       "4   60            12       19731                        Cauliflower Soup   \n",
       "\n",
       "                     CommentID                         UserID        UserName  \\\n",
       "0   sp_aUSaElGf_12259_c_149978  u_1oKVaBmiEKwAFyiHrDLoWpbel0J   misscoffeepot   \n",
       "1    sp_aUSaElGf_8202_c_310332  u_1oKZeRIXYzGNhGW8OMR3O4lX1ih  MichelleMalone   \n",
       "2    sp_aUSaElGf_2832_c_206522  u_1oKYHUtdaD48KJCDYq5wfpAUxWz       jeannem32   \n",
       "3  sp_aUSaElGf_100276_c_434088  u_1oKZCQcKQZdQhDVBS7oISc216VA           ds422   \n",
       "4   sp_aUSaElGf_19731_c_387011  u_1oKd4sudZQPgu6YALiC7bW7mKMs     SusanHoward   \n",
       "\n",
       "   UserReputation  CreationTimestamp  ReplyCount  ThumbsUpCount  \\\n",
       "0              20         1622717078           0              0   \n",
       "1               1         1622717852           0              0   \n",
       "2               1         1622717357           0              0   \n",
       "3               1         1622648899           0              0   \n",
       "4               1         1622718260           0              0   \n",
       "\n",
       "   ThumbsDownCount  Rating  BestScore  \\\n",
       "0                0       5        100   \n",
       "1                1       5        100   \n",
       "2                0       3        100   \n",
       "3                0       5        100   \n",
       "4                0       4        100   \n",
       "\n",
       "                                       Recipe_Review  \n",
       "0  great recipe! I have made them just as written...  \n",
       "1  This is an easy and quick recipe that is great...  \n",
       "2  I think I was looking for something extra spec...  \n",
       "3  This is our favorite grilled chicken recipe.  ...  \n",
       "4  Great basic recipe. I added 2 teaspoons Tuscan...  "
      ]
     },
     "execution_count": 3,
     "metadata": {},
     "output_type": "execute_result"
    }
   ],
   "source": [
    "train_data.head()"
   ]
  },
  {
   "cell_type": "code",
   "execution_count": 4,
   "id": "6b98ef40",
   "metadata": {
    "execution": {
     "iopub.execute_input": "2024-04-02T05:33:52.361019Z",
     "iopub.status.busy": "2024-04-02T05:33:52.360706Z",
     "iopub.status.idle": "2024-04-02T05:33:52.366269Z",
     "shell.execute_reply": "2024-04-02T05:33:52.365478Z"
    },
    "id": "5h5huyzgZuyv",
    "outputId": "c2ab0447-ac74-4e7c-cff0-b46068ce3324",
    "papermill": {
     "duration": 0.024788,
     "end_time": "2024-04-02T05:33:52.368175",
     "exception": false,
     "start_time": "2024-04-02T05:33:52.343387",
     "status": "completed"
    },
    "tags": []
   },
   "outputs": [
    {
     "data": {
      "text/plain": [
       "Index(['ID', 'RecipeNumber', 'RecipeCode', 'RecipeName', 'CommentID', 'UserID',\n",
       "       'UserName', 'UserReputation', 'CreationTimestamp', 'ReplyCount',\n",
       "       'ThumbsUpCount', 'ThumbsDownCount', 'Rating', 'BestScore',\n",
       "       'Recipe_Review'],\n",
       "      dtype='object')"
      ]
     },
     "execution_count": 4,
     "metadata": {},
     "output_type": "execute_result"
    }
   ],
   "source": [
    "columns = train_data.columns\n",
    "columns"
   ]
  },
  {
   "cell_type": "code",
   "execution_count": 5,
   "id": "d6c94ceb",
   "metadata": {
    "execution": {
     "iopub.execute_input": "2024-04-02T05:33:52.402581Z",
     "iopub.status.busy": "2024-04-02T05:33:52.402325Z",
     "iopub.status.idle": "2024-04-02T05:33:52.415169Z",
     "shell.execute_reply": "2024-04-02T05:33:52.414164Z"
    },
    "id": "htmFBcmrZ0JQ",
    "papermill": {
     "duration": 0.032385,
     "end_time": "2024-04-02T05:33:52.417175",
     "exception": false,
     "start_time": "2024-04-02T05:33:52.384790",
     "status": "completed"
    },
    "tags": []
   },
   "outputs": [],
   "source": [
    "x = train_data[['UserReputation', 'ReplyCount', 'ThumbsUpCount', 'ThumbsDownCount', 'Rating', 'BestScore', 'Recipe_Review']]"
   ]
  },
  {
   "cell_type": "code",
   "execution_count": 6,
   "id": "3dba4e38",
   "metadata": {
    "execution": {
     "iopub.execute_input": "2024-04-02T05:33:52.451662Z",
     "iopub.status.busy": "2024-04-02T05:33:52.451418Z",
     "iopub.status.idle": "2024-04-02T05:33:52.461039Z",
     "shell.execute_reply": "2024-04-02T05:33:52.460229Z"
    },
    "id": "CFUDkTloandR",
    "outputId": "1cac20d8-54c1-43f5-9106-0cc6274478df",
    "papermill": {
     "duration": 0.029143,
     "end_time": "2024-04-02T05:33:52.463131",
     "exception": false,
     "start_time": "2024-04-02T05:33:52.433988",
     "status": "completed"
    },
    "tags": []
   },
   "outputs": [
    {
     "data": {
      "text/html": [
       "<div>\n",
       "<style scoped>\n",
       "    .dataframe tbody tr th:only-of-type {\n",
       "        vertical-align: middle;\n",
       "    }\n",
       "\n",
       "    .dataframe tbody tr th {\n",
       "        vertical-align: top;\n",
       "    }\n",
       "\n",
       "    .dataframe thead th {\n",
       "        text-align: right;\n",
       "    }\n",
       "</style>\n",
       "<table border=\"1\" class=\"dataframe\">\n",
       "  <thead>\n",
       "    <tr style=\"text-align: right;\">\n",
       "      <th></th>\n",
       "      <th>UserReputation</th>\n",
       "      <th>ReplyCount</th>\n",
       "      <th>ThumbsUpCount</th>\n",
       "      <th>ThumbsDownCount</th>\n",
       "      <th>Rating</th>\n",
       "      <th>BestScore</th>\n",
       "      <th>Recipe_Review</th>\n",
       "    </tr>\n",
       "  </thead>\n",
       "  <tbody>\n",
       "    <tr>\n",
       "      <th>0</th>\n",
       "      <td>20</td>\n",
       "      <td>0</td>\n",
       "      <td>0</td>\n",
       "      <td>0</td>\n",
       "      <td>5</td>\n",
       "      <td>100</td>\n",
       "      <td>great recipe! I have made them just as written...</td>\n",
       "    </tr>\n",
       "    <tr>\n",
       "      <th>1</th>\n",
       "      <td>1</td>\n",
       "      <td>0</td>\n",
       "      <td>0</td>\n",
       "      <td>1</td>\n",
       "      <td>5</td>\n",
       "      <td>100</td>\n",
       "      <td>This is an easy and quick recipe that is great...</td>\n",
       "    </tr>\n",
       "    <tr>\n",
       "      <th>2</th>\n",
       "      <td>1</td>\n",
       "      <td>0</td>\n",
       "      <td>0</td>\n",
       "      <td>0</td>\n",
       "      <td>3</td>\n",
       "      <td>100</td>\n",
       "      <td>I think I was looking for something extra spec...</td>\n",
       "    </tr>\n",
       "    <tr>\n",
       "      <th>3</th>\n",
       "      <td>1</td>\n",
       "      <td>0</td>\n",
       "      <td>0</td>\n",
       "      <td>0</td>\n",
       "      <td>5</td>\n",
       "      <td>100</td>\n",
       "      <td>This is our favorite grilled chicken recipe.  ...</td>\n",
       "    </tr>\n",
       "    <tr>\n",
       "      <th>4</th>\n",
       "      <td>1</td>\n",
       "      <td>0</td>\n",
       "      <td>0</td>\n",
       "      <td>0</td>\n",
       "      <td>4</td>\n",
       "      <td>100</td>\n",
       "      <td>Great basic recipe. I added 2 teaspoons Tuscan...</td>\n",
       "    </tr>\n",
       "  </tbody>\n",
       "</table>\n",
       "</div>"
      ],
      "text/plain": [
       "   UserReputation  ReplyCount  ThumbsUpCount  ThumbsDownCount  Rating  \\\n",
       "0              20           0              0                0       5   \n",
       "1               1           0              0                1       5   \n",
       "2               1           0              0                0       3   \n",
       "3               1           0              0                0       5   \n",
       "4               1           0              0                0       4   \n",
       "\n",
       "   BestScore                                      Recipe_Review  \n",
       "0        100  great recipe! I have made them just as written...  \n",
       "1        100  This is an easy and quick recipe that is great...  \n",
       "2        100  I think I was looking for something extra spec...  \n",
       "3        100  This is our favorite grilled chicken recipe.  ...  \n",
       "4        100  Great basic recipe. I added 2 teaspoons Tuscan...  "
      ]
     },
     "execution_count": 6,
     "metadata": {},
     "output_type": "execute_result"
    }
   ],
   "source": [
    "x.head()"
   ]
  },
  {
   "cell_type": "code",
   "execution_count": 7,
   "id": "f6bd2a50",
   "metadata": {
    "execution": {
     "iopub.execute_input": "2024-04-02T05:33:52.499530Z",
     "iopub.status.busy": "2024-04-02T05:33:52.499266Z",
     "iopub.status.idle": "2024-04-02T05:33:52.527575Z",
     "shell.execute_reply": "2024-04-02T05:33:52.526715Z"
    },
    "papermill": {
     "duration": 0.047661,
     "end_time": "2024-04-02T05:33:52.529502",
     "exception": false,
     "start_time": "2024-04-02T05:33:52.481841",
     "status": "completed"
    },
    "tags": []
   },
   "outputs": [
    {
     "data": {
      "text/html": [
       "<div>\n",
       "<style scoped>\n",
       "    .dataframe tbody tr th:only-of-type {\n",
       "        vertical-align: middle;\n",
       "    }\n",
       "\n",
       "    .dataframe tbody tr th {\n",
       "        vertical-align: top;\n",
       "    }\n",
       "\n",
       "    .dataframe thead th {\n",
       "        text-align: right;\n",
       "    }\n",
       "</style>\n",
       "<table border=\"1\" class=\"dataframe\">\n",
       "  <thead>\n",
       "    <tr style=\"text-align: right;\">\n",
       "      <th></th>\n",
       "      <th>UserReputation</th>\n",
       "      <th>ReplyCount</th>\n",
       "      <th>ThumbsUpCount</th>\n",
       "      <th>ThumbsDownCount</th>\n",
       "      <th>Rating</th>\n",
       "      <th>BestScore</th>\n",
       "    </tr>\n",
       "  </thead>\n",
       "  <tbody>\n",
       "    <tr>\n",
       "      <th>count</th>\n",
       "      <td>13636.000000</td>\n",
       "      <td>13636.000000</td>\n",
       "      <td>13636.000000</td>\n",
       "      <td>13636.000000</td>\n",
       "      <td>13636.000000</td>\n",
       "      <td>13636.000000</td>\n",
       "    </tr>\n",
       "    <tr>\n",
       "      <th>mean</th>\n",
       "      <td>2.160311</td>\n",
       "      <td>0.014520</td>\n",
       "      <td>1.098269</td>\n",
       "      <td>0.543708</td>\n",
       "      <td>4.288721</td>\n",
       "      <td>153.127897</td>\n",
       "    </tr>\n",
       "    <tr>\n",
       "      <th>std</th>\n",
       "      <td>10.086424</td>\n",
       "      <td>0.137323</td>\n",
       "      <td>4.166487</td>\n",
       "      <td>3.265660</td>\n",
       "      <td>1.544839</td>\n",
       "      <td>140.986908</td>\n",
       "    </tr>\n",
       "    <tr>\n",
       "      <th>min</th>\n",
       "      <td>0.000000</td>\n",
       "      <td>0.000000</td>\n",
       "      <td>0.000000</td>\n",
       "      <td>0.000000</td>\n",
       "      <td>0.000000</td>\n",
       "      <td>0.000000</td>\n",
       "    </tr>\n",
       "    <tr>\n",
       "      <th>25%</th>\n",
       "      <td>1.000000</td>\n",
       "      <td>0.000000</td>\n",
       "      <td>0.000000</td>\n",
       "      <td>0.000000</td>\n",
       "      <td>5.000000</td>\n",
       "      <td>100.000000</td>\n",
       "    </tr>\n",
       "    <tr>\n",
       "      <th>50%</th>\n",
       "      <td>1.000000</td>\n",
       "      <td>0.000000</td>\n",
       "      <td>0.000000</td>\n",
       "      <td>0.000000</td>\n",
       "      <td>5.000000</td>\n",
       "      <td>100.000000</td>\n",
       "    </tr>\n",
       "    <tr>\n",
       "      <th>75%</th>\n",
       "      <td>1.000000</td>\n",
       "      <td>0.000000</td>\n",
       "      <td>0.000000</td>\n",
       "      <td>0.000000</td>\n",
       "      <td>5.000000</td>\n",
       "      <td>100.000000</td>\n",
       "    </tr>\n",
       "    <tr>\n",
       "      <th>max</th>\n",
       "      <td>510.000000</td>\n",
       "      <td>3.000000</td>\n",
       "      <td>80.000000</td>\n",
       "      <td>126.000000</td>\n",
       "      <td>5.000000</td>\n",
       "      <td>946.000000</td>\n",
       "    </tr>\n",
       "  </tbody>\n",
       "</table>\n",
       "</div>"
      ],
      "text/plain": [
       "       UserReputation    ReplyCount  ThumbsUpCount  ThumbsDownCount  \\\n",
       "count    13636.000000  13636.000000   13636.000000     13636.000000   \n",
       "mean         2.160311      0.014520       1.098269         0.543708   \n",
       "std         10.086424      0.137323       4.166487         3.265660   \n",
       "min          0.000000      0.000000       0.000000         0.000000   \n",
       "25%          1.000000      0.000000       0.000000         0.000000   \n",
       "50%          1.000000      0.000000       0.000000         0.000000   \n",
       "75%          1.000000      0.000000       0.000000         0.000000   \n",
       "max        510.000000      3.000000      80.000000       126.000000   \n",
       "\n",
       "             Rating     BestScore  \n",
       "count  13636.000000  13636.000000  \n",
       "mean       4.288721    153.127897  \n",
       "std        1.544839    140.986908  \n",
       "min        0.000000      0.000000  \n",
       "25%        5.000000    100.000000  \n",
       "50%        5.000000    100.000000  \n",
       "75%        5.000000    100.000000  \n",
       "max        5.000000    946.000000  "
      ]
     },
     "execution_count": 7,
     "metadata": {},
     "output_type": "execute_result"
    }
   ],
   "source": [
    "x.describe()"
   ]
  },
  {
   "cell_type": "markdown",
   "id": "b8ba2861",
   "metadata": {
    "papermill": {
     "duration": 0.017302,
     "end_time": "2024-04-02T05:33:52.564104",
     "exception": false,
     "start_time": "2024-04-02T05:33:52.546802",
     "status": "completed"
    },
    "tags": []
   },
   "source": [
    "### Conclusions from analyzing statistics\n",
    "\n",
    "From the above statistics obtained from the numerical column of train data we can conculude that\n",
    "- All the values in all columns are positive\n",
    "- All the quartiles are mode of the columns in most of the case.\n",
    "- The Thumbs and Reply count have most of the values as 0"
   ]
  },
  {
   "cell_type": "markdown",
   "id": "31593250",
   "metadata": {
    "papermill": {
     "duration": 0.016853,
     "end_time": "2024-04-02T05:33:52.598042",
     "exception": false,
     "start_time": "2024-04-02T05:33:52.581189",
     "status": "completed"
    },
    "tags": []
   },
   "source": [
    "# Vizualizing the data\n",
    "\n",
    "- We will try to compare the plots of the most common relations . We will analyze columns vs Target variable plots to analyze the trends. \n",
    "\n",
    "- We will also analyze box plots to analyze the impact of outliers.\n",
    "\n",
    "- We will also see the scaling effect on the data , using the pre and post KDE graph after scaling the data."
   ]
  },
  {
   "cell_type": "code",
   "execution_count": 8,
   "id": "211ff397",
   "metadata": {
    "execution": {
     "iopub.execute_input": "2024-04-02T05:33:52.634019Z",
     "iopub.status.busy": "2024-04-02T05:33:52.633217Z",
     "iopub.status.idle": "2024-04-02T05:33:53.841691Z",
     "shell.execute_reply": "2024-04-02T05:33:53.840783Z"
    },
    "id": "qF_h6pJ2ap8p",
    "outputId": "f591a851-7faa-4dfb-b6c4-6db3a8d9a431",
    "papermill": {
     "duration": 1.228662,
     "end_time": "2024-04-02T05:33:53.843903",
     "exception": false,
     "start_time": "2024-04-02T05:33:52.615241",
     "status": "completed"
    },
    "tags": []
   },
   "outputs": [
    {
     "data": {
      "image/png": "[encoded data removed]",
      "text/plain": [
       "<Figure size 800x800 with 6 Axes>"
      ]
     },
     "metadata": {},
     "output_type": "display_data"
    }
   ],
   "source": [
    "import matplotlib.pyplot as plt\n",
    "\n",
    "# Create a figure and axes\n",
    "fig, axs = plt.subplots(3, 2, figsize=(8, 8))\n",
    "\n",
    "plt.suptitle('Columns vs Rating plots (Fig 1.1)')\n",
    "\n",
    "# Iterate over the numerical columns\n",
    "for i, col in enumerate(['UserReputation', 'ReplyCount', 'ThumbsUpCount', 'ThumbsDownCount' , 'BestScore']):\n",
    "    # Plot the data\n",
    "    axs[i // 2, i % 2].scatter(x['Rating'], x[col])\n",
    "    # Set the title\n",
    "    axs[i // 2, i % 2].set_title(f'{col} vs Rating')\n",
    "\n",
    "plt.tight_layout()\n",
    "\n",
    "# Display the plot\n",
    "plt.show()\n"
   ]
  },
  {
   "cell_type": "code",
   "execution_count": 9,
   "id": "8b7da461",
   "metadata": {
    "execution": {
     "iopub.execute_input": "2024-04-02T05:33:53.881650Z",
     "iopub.status.busy": "2024-04-02T05:33:53.881358Z",
     "iopub.status.idle": "2024-04-02T05:33:53.894066Z",
     "shell.execute_reply": "2024-04-02T05:33:53.893119Z"
    },
    "id": "MfaX3Xsebffw",
    "outputId": "5f84e128-199a-4157-c7d6-60a93f4f1925",
    "papermill": {
     "duration": 0.033929,
     "end_time": "2024-04-02T05:33:53.896227",
     "exception": false,
     "start_time": "2024-04-02T05:33:53.862298",
     "status": "completed"
    },
    "tags": []
   },
   "outputs": [
    {
     "data": {
      "text/plain": [
       "UserReputation\n",
       "1      12708\n",
       "10       478\n",
       "20       217\n",
       "0        118\n",
       "30        54\n",
       "50        16\n",
       "40        12\n",
       "90         7\n",
       "80         4\n",
       "60         4\n",
       "100        3\n",
       "510        3\n",
       "110        3\n",
       "70         2\n",
       "140        2\n",
       "160        1\n",
       "220        1\n",
       "130        1\n",
       "150        1\n",
       "300        1\n",
       "Name: count, dtype: int64"
      ]
     },
     "execution_count": 9,
     "metadata": {},
     "output_type": "execute_result"
    }
   ],
   "source": [
    "Reputation_count = x.UserReputation.value_counts()\n",
    "Reputation_count"
   ]
  },
  {
   "cell_type": "code",
   "execution_count": 10,
   "id": "36d2d409",
   "metadata": {
    "execution": {
     "iopub.execute_input": "2024-04-02T05:33:53.934671Z",
     "iopub.status.busy": "2024-04-02T05:33:53.934419Z",
     "iopub.status.idle": "2024-04-02T05:33:54.182485Z",
     "shell.execute_reply": "2024-04-02T05:33:54.181623Z"
    },
    "id": "2s0cUyyIdOYM",
    "outputId": "96f683df-b479-4cb7-e00f-4c497929efe0",
    "papermill": {
     "duration": 0.269239,
     "end_time": "2024-04-02T05:33:54.184686",
     "exception": false,
     "start_time": "2024-04-02T05:33:53.915447",
     "status": "completed"
    },
    "tags": []
   },
   "outputs": [
    {
     "data": {
      "image/png": "[encoded data removed]",
      "text/plain": [
       "<Figure size 1000x1000 with 1 Axes>"
      ]
     },
     "metadata": {},
     "output_type": "display_data"
    }
   ],
   "source": [
    "import matplotlib.pyplot as plt\n",
    "# Create a figure and axes\n",
    "fig, ax = plt.subplots(figsize=(10, 10))\n",
    "\n",
    "# Plot the data\n",
    "ax.scatter(x['UserReputation'], x['BestScore'])\n",
    "\n",
    "# Set the title\n",
    "ax.set_title('UserReputation vs BestScore (Fig 1.2)')\n",
    "\n",
    "# Display the plot\n",
    "plt.show()\n"
   ]
  },
  {
   "cell_type": "markdown",
   "id": "c4227a86",
   "metadata": {
    "papermill": {
     "duration": 0.01849,
     "end_time": "2024-04-02T05:33:54.222365",
     "exception": false,
     "start_time": "2024-04-02T05:33:54.203875",
     "status": "completed"
    },
    "tags": []
   },
   "source": [
    "### Inference from Fig 1.2\n",
    "\n",
    "From Fig 1.2 we can ensure that there not much users in very high reputation category . And even if there are some users in that category , their reviews don't have the Best Score , so this means that Best Score don't realy depend on the user reputaion."
   ]
  },
  {
   "cell_type": "code",
   "execution_count": 11,
   "id": "50f4be68",
   "metadata": {
    "execution": {
     "iopub.execute_input": "2024-04-02T05:33:54.261213Z",
     "iopub.status.busy": "2024-04-02T05:33:54.260919Z",
     "iopub.status.idle": "2024-04-02T05:33:54.884312Z",
     "shell.execute_reply": "2024-04-02T05:33:54.883397Z"
    },
    "id": "LeCdmosEeig3",
    "outputId": "ff2cce6b-5c6d-406e-80c9-261f6cc04141",
    "papermill": {
     "duration": 0.645541,
     "end_time": "2024-04-02T05:33:54.886662",
     "exception": false,
     "start_time": "2024-04-02T05:33:54.241121",
     "status": "completed"
    },
    "tags": []
   },
   "outputs": [
    {
     "data": {
      "image/png": "[encoded data removed]",
      "text/plain": [
       "<Figure size 600x600 with 4 Axes>"
      ]
     },
     "metadata": {},
     "output_type": "display_data"
    }
   ],
   "source": [
    "import matplotlib.pyplot as plt\n",
    "# Create a figure and axes\n",
    "fig, axs = plt.subplots(2, 2, figsize=(6, 6))\n",
    "\n",
    "plt.suptitle('Box plot of columns before outlier removal (Fig 1.3)')\n",
    "\n",
    "# Iterate over the numerical columns except 'Rating'\n",
    "for i, col in enumerate(['UserReputation', 'ReplyCount', 'ThumbsUpCount', 'ThumbsDownCount']):\n",
    "    # Plot the box plot\n",
    "    axs[i // 2, i % 2].boxplot(x[col])\n",
    "    # Set the title\n",
    "    axs[i // 2, i % 2].set_title(f'{col} Distribution')\n",
    "\n",
    "# Adjust the layout\n",
    "plt.tight_layout()\n",
    "\n",
    "# Display the plot\n",
    "plt.show()\n"
   ]
  },
  {
   "cell_type": "code",
   "execution_count": 12,
   "id": "fa71fee5",
   "metadata": {
    "execution": {
     "iopub.execute_input": "2024-04-02T05:33:54.928328Z",
     "iopub.status.busy": "2024-04-02T05:33:54.928012Z",
     "iopub.status.idle": "2024-04-02T05:33:57.248727Z",
     "shell.execute_reply": "2024-04-02T05:33:57.247724Z"
    },
    "id": "bSANBGtdjxh9",
    "outputId": "162e4001-9baf-4760-8fca-49161b1f4bc1",
    "papermill": {
     "duration": 2.344096,
     "end_time": "2024-04-02T05:33:57.250890",
     "exception": false,
     "start_time": "2024-04-02T05:33:54.906794",
     "status": "completed"
    },
    "tags": []
   },
   "outputs": [
    {
     "name": "stderr",
     "output_type": "stream",
     "text": [
      "/opt/conda/lib/python3.10/site-packages/seaborn/_oldcore.py:1119: FutureWarning: use_inf_as_na option is deprecated and will be removed in a future version. Convert inf values to NaN before operating instead.\n",
      "  with pd.option_context('mode.use_inf_as_na', True):\n",
      "/opt/conda/lib/python3.10/site-packages/seaborn/_oldcore.py:1119: FutureWarning: use_inf_as_na option is deprecated and will be removed in a future version. Convert inf values to NaN before operating instead.\n",
      "  with pd.option_context('mode.use_inf_as_na', True):\n",
      "/opt/conda/lib/python3.10/site-packages/seaborn/_oldcore.py:1119: FutureWarning: use_inf_as_na option is deprecated and will be removed in a future version. Convert inf values to NaN before operating instead.\n",
      "  with pd.option_context('mode.use_inf_as_na', True):\n",
      "/opt/conda/lib/python3.10/site-packages/seaborn/_oldcore.py:1119: FutureWarning: use_inf_as_na option is deprecated and will be removed in a future version. Convert inf values to NaN before operating instead.\n",
      "  with pd.option_context('mode.use_inf_as_na', True):\n",
      "/opt/conda/lib/python3.10/site-packages/seaborn/_oldcore.py:1119: FutureWarning: use_inf_as_na option is deprecated and will be removed in a future version. Convert inf values to NaN before operating instead.\n",
      "  with pd.option_context('mode.use_inf_as_na', True):\n"
     ]
    },
    {
     "data": {
      "image/png": "[encoded data removed]",
      "text/plain": [
       "<Figure size 1000x1000 with 1 Axes>"
      ]
     },
     "metadata": {},
     "output_type": "display_data"
    }
   ],
   "source": [
    "import matplotlib.pyplot as plt\n",
    "import seaborn as sns\n",
    "\n",
    "# Create a figure and axes\n",
    "fig, ax = plt.subplots(figsize=(10, 10))\n",
    "\n",
    "# Iterate over the numerical columns\n",
    "for col in ['UserReputation', 'ReplyCount', 'ThumbsUpCount', 'ThumbsDownCount', 'BestScore']:\n",
    "    # Plot the KDE plot\n",
    "    sns.kdeplot(x[col], ax=ax)\n",
    "\n",
    "# Set the title\n",
    "ax.set_title('KDE Plot of Numerical Columns before scaling (Fig 1.4)')\n",
    "\n",
    "# Display the plot\n",
    "plt.show()\n"
   ]
  },
  {
   "cell_type": "code",
   "execution_count": 13,
   "id": "2d8e9f4a",
   "metadata": {
    "execution": {
     "iopub.execute_input": "2024-04-02T05:33:57.292891Z",
     "iopub.status.busy": "2024-04-02T05:33:57.292439Z",
     "iopub.status.idle": "2024-04-02T05:33:57.306230Z",
     "shell.execute_reply": "2024-04-02T05:33:57.305541Z"
    },
    "id": "p-FcxveQkY1J",
    "papermill": {
     "duration": 0.036864,
     "end_time": "2024-04-02T05:33:57.308154",
     "exception": false,
     "start_time": "2024-04-02T05:33:57.271290",
     "status": "completed"
    },
    "tags": []
   },
   "outputs": [],
   "source": [
    "def remove_outliers_iqr(df, columns):\n",
    "  \"\"\"\n",
    "  Removes outliers from the given dataframe using the IQR method.\n",
    "\n",
    "  Args:\n",
    "    df: The dataframe to remove outliers from.\n",
    "    columns: A list of column names to remove outliers from.\n",
    "\n",
    "  Returns:\n",
    "    The dataframe with outliers removed.\n",
    "  \"\"\"\n",
    "\n",
    "  for col in columns:\n",
    "\n",
    "    if df[col].nunique() >= 10:\n",
    "      # Calculate the IQR\n",
    "      Q1 = df[col].quantile(0.25)\n",
    "      Q3 = df[col].quantile(0.75)\n",
    "      IQR = Q3 - Q1\n",
    "\n",
    "      # Calculate the lower and upper bounds\n",
    "      lower_bound = Q1 - (1.5 * IQR)\n",
    "      upper_bound = Q3 + (1.5 * IQR)\n",
    "\n",
    "      # Remove outliers\n",
    "      df = df[(df[col] >= lower_bound) & (df[col] <= upper_bound)]\n",
    "\n",
    "    return df\n",
    "\n",
    "# Remove outliers from the 'x' dataframe, excluding the 'Rating' column\n",
    "x = remove_outliers_iqr(x, x.columns.drop(['Rating' , 'Recipe_Review']))\n"
   ]
  },
  {
   "cell_type": "code",
   "execution_count": 14,
   "id": "9c5ab9cb",
   "metadata": {
    "execution": {
     "iopub.execute_input": "2024-04-02T05:33:57.349742Z",
     "iopub.status.busy": "2024-04-02T05:33:57.349459Z",
     "iopub.status.idle": "2024-04-02T05:33:57.360776Z",
     "shell.execute_reply": "2024-04-02T05:33:57.359778Z"
    },
    "id": "T2IWb6Mtmsux",
    "outputId": "2c3e4c46-a503-4bfe-8326-f415ac9260aa",
    "papermill": {
     "duration": 0.034081,
     "end_time": "2024-04-02T05:33:57.362668",
     "exception": false,
     "start_time": "2024-04-02T05:33:57.328587",
     "status": "completed"
    },
    "tags": []
   },
   "outputs": [
    {
     "data": {
      "text/html": [
       "<div>\n",
       "<style scoped>\n",
       "    .dataframe tbody tr th:only-of-type {\n",
       "        vertical-align: middle;\n",
       "    }\n",
       "\n",
       "    .dataframe tbody tr th {\n",
       "        vertical-align: top;\n",
       "    }\n",
       "\n",
       "    .dataframe thead th {\n",
       "        text-align: right;\n",
       "    }\n",
       "</style>\n",
       "<table border=\"1\" class=\"dataframe\">\n",
       "  <thead>\n",
       "    <tr style=\"text-align: right;\">\n",
       "      <th></th>\n",
       "      <th>UserReputation</th>\n",
       "      <th>ReplyCount</th>\n",
       "      <th>ThumbsUpCount</th>\n",
       "      <th>ThumbsDownCount</th>\n",
       "      <th>Rating</th>\n",
       "      <th>BestScore</th>\n",
       "      <th>Recipe_Review</th>\n",
       "    </tr>\n",
       "  </thead>\n",
       "  <tbody>\n",
       "    <tr>\n",
       "      <th>1</th>\n",
       "      <td>1</td>\n",
       "      <td>0</td>\n",
       "      <td>0</td>\n",
       "      <td>1</td>\n",
       "      <td>5</td>\n",
       "      <td>100</td>\n",
       "      <td>This is an easy and quick recipe that is great...</td>\n",
       "    </tr>\n",
       "    <tr>\n",
       "      <th>2</th>\n",
       "      <td>1</td>\n",
       "      <td>0</td>\n",
       "      <td>0</td>\n",
       "      <td>0</td>\n",
       "      <td>3</td>\n",
       "      <td>100</td>\n",
       "      <td>I think I was looking for something extra spec...</td>\n",
       "    </tr>\n",
       "    <tr>\n",
       "      <th>3</th>\n",
       "      <td>1</td>\n",
       "      <td>0</td>\n",
       "      <td>0</td>\n",
       "      <td>0</td>\n",
       "      <td>5</td>\n",
       "      <td>100</td>\n",
       "      <td>This is our favorite grilled chicken recipe.  ...</td>\n",
       "    </tr>\n",
       "    <tr>\n",
       "      <th>4</th>\n",
       "      <td>1</td>\n",
       "      <td>0</td>\n",
       "      <td>0</td>\n",
       "      <td>0</td>\n",
       "      <td>4</td>\n",
       "      <td>100</td>\n",
       "      <td>Great basic recipe. I added 2 teaspoons Tuscan...</td>\n",
       "    </tr>\n",
       "    <tr>\n",
       "      <th>5</th>\n",
       "      <td>1</td>\n",
       "      <td>0</td>\n",
       "      <td>1</td>\n",
       "      <td>0</td>\n",
       "      <td>5</td>\n",
       "      <td>193</td>\n",
       "      <td>Absolutely delicious!   Easy, tasty and filling!</td>\n",
       "    </tr>\n",
       "  </tbody>\n",
       "</table>\n",
       "</div>"
      ],
      "text/plain": [
       "   UserReputation  ReplyCount  ThumbsUpCount  ThumbsDownCount  Rating  \\\n",
       "1               1           0              0                1       5   \n",
       "2               1           0              0                0       3   \n",
       "3               1           0              0                0       5   \n",
       "4               1           0              0                0       4   \n",
       "5               1           0              1                0       5   \n",
       "\n",
       "   BestScore                                      Recipe_Review  \n",
       "1        100  This is an easy and quick recipe that is great...  \n",
       "2        100  I think I was looking for something extra spec...  \n",
       "3        100  This is our favorite grilled chicken recipe.  ...  \n",
       "4        100  Great basic recipe. I added 2 teaspoons Tuscan...  \n",
       "5        193   Absolutely delicious!   Easy, tasty and filling!  "
      ]
     },
     "execution_count": 14,
     "metadata": {},
     "output_type": "execute_result"
    }
   ],
   "source": [
    "x.head()"
   ]
  },
  {
   "cell_type": "code",
   "execution_count": 15,
   "id": "c2b5eabd",
   "metadata": {
    "execution": {
     "iopub.execute_input": "2024-04-02T05:33:57.404549Z",
     "iopub.status.busy": "2024-04-02T05:33:57.404242Z",
     "iopub.status.idle": "2024-04-02T05:33:57.409568Z",
     "shell.execute_reply": "2024-04-02T05:33:57.408725Z"
    },
    "id": "DLFo5n31oRRs",
    "outputId": "54792faf-617f-4f3b-f314-edc4fef26eca",
    "papermill": {
     "duration": 0.028472,
     "end_time": "2024-04-02T05:33:57.411420",
     "exception": false,
     "start_time": "2024-04-02T05:33:57.382948",
     "status": "completed"
    },
    "tags": []
   },
   "outputs": [
    {
     "data": {
      "text/plain": [
       "(12708, 7)"
      ]
     },
     "execution_count": 15,
     "metadata": {},
     "output_type": "execute_result"
    }
   ],
   "source": [
    "x.shape"
   ]
  },
  {
   "cell_type": "code",
   "execution_count": 16,
   "id": "205e6e91",
   "metadata": {
    "execution": {
     "iopub.execute_input": "2024-04-02T05:33:57.491791Z",
     "iopub.status.busy": "2024-04-02T05:33:57.491167Z",
     "iopub.status.idle": "2024-04-02T05:33:58.268174Z",
     "shell.execute_reply": "2024-04-02T05:33:58.267228Z"
    },
    "id": "ZTcjouFenD25",
    "outputId": "6cdae459-f1b7-4e2c-e3a2-8d5209ab48c3",
    "papermill": {
     "duration": 0.838771,
     "end_time": "2024-04-02T05:33:58.270753",
     "exception": false,
     "start_time": "2024-04-02T05:33:57.431982",
     "status": "completed"
    },
    "tags": []
   },
   "outputs": [
    {
     "data": {
      "image/png": "[encoded data removed]",
      "text/plain": [
       "<Figure size 1000x1000 with 4 Axes>"
      ]
     },
     "metadata": {},
     "output_type": "display_data"
    }
   ],
   "source": [
    "import matplotlib.pyplot as plt\n",
    "# Create a figure and axes\n",
    "fig, axs = plt.subplots(2, 2, figsize=(10, 10))\n",
    "\n",
    "plt.suptitle('Box plot of columns after outlier removal (Fig 1.5)')\n",
    "\n",
    "# Iterate over the numerical columns except 'Rating'\n",
    "for i, col in enumerate(['UserReputation', 'ReplyCount', 'ThumbsUpCount', 'ThumbsDownCount']):\n",
    "    # Plot the box plot\n",
    "    axs[i // 2, i % 2].boxplot(x[col])\n",
    "    # Set the title\n",
    "    axs[i // 2, i % 2].set_title(f'{col} Distribution')\n",
    "\n",
    "# Adjust the layout\n",
    "plt.tight_layout()\n",
    "\n",
    "# Display the plot\n",
    "plt.show()"
   ]
  },
  {
   "cell_type": "code",
   "execution_count": 17,
   "id": "ff4bae19",
   "metadata": {
    "execution": {
     "iopub.execute_input": "2024-04-02T05:33:58.315224Z",
     "iopub.status.busy": "2024-04-02T05:33:58.314910Z",
     "iopub.status.idle": "2024-04-02T05:33:58.457886Z",
     "shell.execute_reply": "2024-04-02T05:33:58.457102Z"
    },
    "id": "Ucyi8nCrPTmz",
    "papermill": {
     "duration": 0.167816,
     "end_time": "2024-04-02T05:33:58.460415",
     "exception": false,
     "start_time": "2024-04-02T05:33:58.292599",
     "status": "completed"
    },
    "tags": []
   },
   "outputs": [],
   "source": [
    "\n",
    "from sklearn.preprocessing import StandardScaler\n",
    "\n",
    "# Define the columns to scale\n",
    "numeric_features = ['UserReputation', 'ReplyCount', 'ThumbsUpCount', 'ThumbsDownCount', 'BestScore']\n",
    "\n",
    "# Create the scaler\n",
    "scaler = StandardScaler()\n",
    "\n",
    "# Fit and transform the data\n",
    "x[numeric_features] = scaler.fit_transform(x[numeric_features])\n"
   ]
  },
  {
   "cell_type": "code",
   "execution_count": 18,
   "id": "507cc1f7",
   "metadata": {
    "execution": {
     "iopub.execute_input": "2024-04-02T05:33:58.505578Z",
     "iopub.status.busy": "2024-04-02T05:33:58.505112Z",
     "iopub.status.idle": "2024-04-02T05:33:58.517816Z",
     "shell.execute_reply": "2024-04-02T05:33:58.516932Z"
    },
    "id": "wfUODICvqETZ",
    "outputId": "8694b883-8e8d-42eb-fccc-3e85ba397bed",
    "papermill": {
     "duration": 0.036618,
     "end_time": "2024-04-02T05:33:58.519689",
     "exception": false,
     "start_time": "2024-04-02T05:33:58.483071",
     "status": "completed"
    },
    "tags": []
   },
   "outputs": [
    {
     "data": {
      "text/html": [
       "<div>\n",
       "<style scoped>\n",
       "    .dataframe tbody tr th:only-of-type {\n",
       "        vertical-align: middle;\n",
       "    }\n",
       "\n",
       "    .dataframe tbody tr th {\n",
       "        vertical-align: top;\n",
       "    }\n",
       "\n",
       "    .dataframe thead th {\n",
       "        text-align: right;\n",
       "    }\n",
       "</style>\n",
       "<table border=\"1\" class=\"dataframe\">\n",
       "  <thead>\n",
       "    <tr style=\"text-align: right;\">\n",
       "      <th></th>\n",
       "      <th>UserReputation</th>\n",
       "      <th>ReplyCount</th>\n",
       "      <th>ThumbsUpCount</th>\n",
       "      <th>ThumbsDownCount</th>\n",
       "      <th>Rating</th>\n",
       "      <th>BestScore</th>\n",
       "      <th>Recipe_Review</th>\n",
       "    </tr>\n",
       "  </thead>\n",
       "  <tbody>\n",
       "    <tr>\n",
       "      <th>1</th>\n",
       "      <td>0.0</td>\n",
       "      <td>-0.099564</td>\n",
       "      <td>-0.251453</td>\n",
       "      <td>0.156674</td>\n",
       "      <td>5</td>\n",
       "      <td>-0.358093</td>\n",
       "      <td>This is an easy and quick recipe that is great...</td>\n",
       "    </tr>\n",
       "    <tr>\n",
       "      <th>2</th>\n",
       "      <td>0.0</td>\n",
       "      <td>-0.099564</td>\n",
       "      <td>-0.251453</td>\n",
       "      <td>-0.158409</td>\n",
       "      <td>3</td>\n",
       "      <td>-0.358093</td>\n",
       "      <td>I think I was looking for something extra spec...</td>\n",
       "    </tr>\n",
       "    <tr>\n",
       "      <th>3</th>\n",
       "      <td>0.0</td>\n",
       "      <td>-0.099564</td>\n",
       "      <td>-0.251453</td>\n",
       "      <td>-0.158409</td>\n",
       "      <td>5</td>\n",
       "      <td>-0.358093</td>\n",
       "      <td>This is our favorite grilled chicken recipe.  ...</td>\n",
       "    </tr>\n",
       "    <tr>\n",
       "      <th>4</th>\n",
       "      <td>0.0</td>\n",
       "      <td>-0.099564</td>\n",
       "      <td>-0.251453</td>\n",
       "      <td>-0.158409</td>\n",
       "      <td>4</td>\n",
       "      <td>-0.358093</td>\n",
       "      <td>Great basic recipe. I added 2 teaspoons Tuscan...</td>\n",
       "    </tr>\n",
       "    <tr>\n",
       "      <th>5</th>\n",
       "      <td>0.0</td>\n",
       "      <td>-0.099564</td>\n",
       "      <td>0.002862</td>\n",
       "      <td>-0.158409</td>\n",
       "      <td>5</td>\n",
       "      <td>0.331920</td>\n",
       "      <td>Absolutely delicious!   Easy, tasty and filling!</td>\n",
       "    </tr>\n",
       "  </tbody>\n",
       "</table>\n",
       "</div>"
      ],
      "text/plain": [
       "   UserReputation  ReplyCount  ThumbsUpCount  ThumbsDownCount  Rating  \\\n",
       "1             0.0   -0.099564      -0.251453         0.156674       5   \n",
       "2             0.0   -0.099564      -0.251453        -0.158409       3   \n",
       "3             0.0   -0.099564      -0.251453        -0.158409       5   \n",
       "4             0.0   -0.099564      -0.251453        -0.158409       4   \n",
       "5             0.0   -0.099564       0.002862        -0.158409       5   \n",
       "\n",
       "   BestScore                                      Recipe_Review  \n",
       "1  -0.358093  This is an easy and quick recipe that is great...  \n",
       "2  -0.358093  I think I was looking for something extra spec...  \n",
       "3  -0.358093  This is our favorite grilled chicken recipe.  ...  \n",
       "4  -0.358093  Great basic recipe. I added 2 teaspoons Tuscan...  \n",
       "5   0.331920   Absolutely delicious!   Easy, tasty and filling!  "
      ]
     },
     "execution_count": 18,
     "metadata": {},
     "output_type": "execute_result"
    }
   ],
   "source": [
    "x.head()"
   ]
  },
  {
   "cell_type": "code",
   "execution_count": 19,
   "id": "52c636fa",
   "metadata": {
    "execution": {
     "iopub.execute_input": "2024-04-02T05:33:58.564278Z",
     "iopub.status.busy": "2024-04-02T05:33:58.563952Z",
     "iopub.status.idle": "2024-04-02T05:33:58.569641Z",
     "shell.execute_reply": "2024-04-02T05:33:58.568771Z"
    },
    "id": "nZiUBCEIt9C6",
    "outputId": "95a684b6-1b95-442c-b93d-6df41f5508c8",
    "papermill": {
     "duration": 0.030253,
     "end_time": "2024-04-02T05:33:58.571598",
     "exception": false,
     "start_time": "2024-04-02T05:33:58.541345",
     "status": "completed"
    },
    "tags": []
   },
   "outputs": [
    {
     "data": {
      "text/plain": [
       "(12708, 7)"
      ]
     },
     "execution_count": 19,
     "metadata": {},
     "output_type": "execute_result"
    }
   ],
   "source": [
    "x.shape"
   ]
  },
  {
   "cell_type": "code",
   "execution_count": 20,
   "id": "88e006b6",
   "metadata": {
    "execution": {
     "iopub.execute_input": "2024-04-02T05:33:58.616129Z",
     "iopub.status.busy": "2024-04-02T05:33:58.615857Z",
     "iopub.status.idle": "2024-04-02T05:33:59.545006Z",
     "shell.execute_reply": "2024-04-02T05:33:59.544093Z"
    },
    "id": "vV2p6xHyqHUt",
    "outputId": "97220fc7-b6ab-462a-9f66-65f3c830dfcc",
    "papermill": {
     "duration": 0.954094,
     "end_time": "2024-04-02T05:33:59.547268",
     "exception": false,
     "start_time": "2024-04-02T05:33:58.593174",
     "status": "completed"
    },
    "tags": []
   },
   "outputs": [
    {
     "name": "stderr",
     "output_type": "stream",
     "text": [
      "/opt/conda/lib/python3.10/site-packages/seaborn/_oldcore.py:1119: FutureWarning: use_inf_as_na option is deprecated and will be removed in a future version. Convert inf values to NaN before operating instead.\n",
      "  with pd.option_context('mode.use_inf_as_na', True):\n",
      "/tmp/ipykernel_26/1441705122.py:7: UserWarning: Dataset has 0 variance; skipping density estimate. Pass `warn_singular=False` to disable this warning.\n",
      "  sns.kdeplot(x[col], ax=ax)\n",
      "/opt/conda/lib/python3.10/site-packages/seaborn/_oldcore.py:1119: FutureWarning: use_inf_as_na option is deprecated and will be removed in a future version. Convert inf values to NaN before operating instead.\n",
      "  with pd.option_context('mode.use_inf_as_na', True):\n",
      "/opt/conda/lib/python3.10/site-packages/seaborn/_oldcore.py:1119: FutureWarning: use_inf_as_na option is deprecated and will be removed in a future version. Convert inf values to NaN before operating instead.\n",
      "  with pd.option_context('mode.use_inf_as_na', True):\n",
      "/opt/conda/lib/python3.10/site-packages/seaborn/_oldcore.py:1119: FutureWarning: use_inf_as_na option is deprecated and will be removed in a future version. Convert inf values to NaN before operating instead.\n",
      "  with pd.option_context('mode.use_inf_as_na', True):\n",
      "/opt/conda/lib/python3.10/site-packages/seaborn/_oldcore.py:1119: FutureWarning: use_inf_as_na option is deprecated and will be removed in a future version. Convert inf values to NaN before operating instead.\n",
      "  with pd.option_context('mode.use_inf_as_na', True):\n"
     ]
    },
    {
     "data": {
      "image/png": "[encoded data removed]",
      "text/plain": [
       "<Figure size 1000x1000 with 1 Axes>"
      ]
     },
     "metadata": {},
     "output_type": "display_data"
    }
   ],
   "source": [
    "# Create a figure and axes\n",
    "fig, ax = plt.subplots(figsize=(10, 10))\n",
    "\n",
    "# Iterate over the numerical columns\n",
    "for col in ['UserReputation', 'ReplyCount', 'ThumbsUpCount', 'ThumbsDownCount', 'BestScore']:\n",
    "    # Plot the KDE plot\n",
    "    sns.kdeplot(x[col], ax=ax)\n",
    "\n",
    "# Set the title\n",
    "ax.set_title('KDE Plot of Numerical Columns after scaling (Fig 1.6)')\n",
    "\n",
    "# Display the plot\n",
    "plt.show()"
   ]
  },
  {
   "cell_type": "markdown",
   "id": "e88ba078",
   "metadata": {
    "papermill": {
     "duration": 0.022486,
     "end_time": "2024-04-02T05:33:59.592714",
     "exception": false,
     "start_time": "2024-04-02T05:33:59.570228",
     "status": "completed"
    },
    "tags": []
   },
   "source": [
    "### Inference from KDE and box plot\n",
    "\n",
    "- While ReplyCount , ThumbsUpCount , ThumbsDownCount were not very much affected by the outliers , but the UserReputation box-plot clearly showed the impact of outliers. Removal of outliers ensurest that , if we use any outlier sensitive method , then that mustn't behave unexpectedly while model training.\n",
    "\n",
    "- In the KDE distribution before scaling we can clearly see that a single feature covers most of the density of the numerical data. But after scaling all the features , we have some negative data (which was not present earlier) but the density is now evenly distributed among all the features."
   ]
  },
  {
   "cell_type": "markdown",
   "id": "bfd04d2a",
   "metadata": {
    "papermill": {
     "duration": 0.022229,
     "end_time": "2024-04-02T05:33:59.637599",
     "exception": false,
     "start_time": "2024-04-02T05:33:59.615370",
     "status": "completed"
    },
    "tags": []
   },
   "source": [
    "# Preparing Reviews of the users\n",
    "\n",
    "As we noticed that the Recipe_Review column is very special case in our data. We can not directly neglet this column from the data , as it is clear that the reviews are very much influencial to drive the rating of the recipes. For handeling this type of data , where everything consits of string and basically represents human responses , we need to use the basics of natural language processing . \n",
    "\n",
    "Basic idea is :-\n",
    "\n",
    "- Apply stop words\n",
    "- Use tfidf vectorization on the column to convert the texts into numerical features\n",
    "\n",
    "These methods will actually help us to convert these responses to , machine understandable format."
   ]
  },
  {
   "cell_type": "code",
   "execution_count": 21,
   "id": "9abb21e9",
   "metadata": {
    "execution": {
     "iopub.execute_input": "2024-04-02T05:33:59.684854Z",
     "iopub.status.busy": "2024-04-02T05:33:59.684503Z",
     "iopub.status.idle": "2024-04-02T05:33:59.698810Z",
     "shell.execute_reply": "2024-04-02T05:33:59.697794Z"
    },
    "id": "MQLBE9F9quMF",
    "outputId": "59edeeba-7a4b-42b1-e3d5-cfd00c79d5af",
    "papermill": {
     "duration": 0.040011,
     "end_time": "2024-04-02T05:33:59.700767",
     "exception": false,
     "start_time": "2024-04-02T05:33:59.660756",
     "status": "completed"
    },
    "tags": []
   },
   "outputs": [
    {
     "name": "stdout",
     "output_type": "stream",
     "text": [
      "[2984, 11654]\n"
     ]
    }
   ],
   "source": [
    "non_string_indices = []\n",
    "\n",
    "# Iterate over each row in the 'Recipe_Review' column\n",
    "for i, row in x['Recipe_Review'].items():\n",
    "    # Check if the data type is not string\n",
    "    if not isinstance(row, str):\n",
    "        non_string_indices.append(i)\n",
    "\n",
    "# Print the indices of non-string values\n",
    "print(non_string_indices)\n"
   ]
  },
  {
   "cell_type": "code",
   "execution_count": 22,
   "id": "cfdfbb5a",
   "metadata": {
    "execution": {
     "iopub.execute_input": "2024-04-02T05:33:59.748138Z",
     "iopub.status.busy": "2024-04-02T05:33:59.747248Z",
     "iopub.status.idle": "2024-04-02T05:33:59.754676Z",
     "shell.execute_reply": "2024-04-02T05:33:59.753619Z"
    },
    "id": "grEO1npLrqan",
    "papermill": {
     "duration": 0.033319,
     "end_time": "2024-04-02T05:33:59.756705",
     "exception": false,
     "start_time": "2024-04-02T05:33:59.723386",
     "status": "completed"
    },
    "tags": []
   },
   "outputs": [],
   "source": [
    "x = x.drop(non_string_indices)"
   ]
  },
  {
   "cell_type": "code",
   "execution_count": 23,
   "id": "2f3df1da",
   "metadata": {
    "execution": {
     "iopub.execute_input": "2024-04-02T05:33:59.805186Z",
     "iopub.status.busy": "2024-04-02T05:33:59.804844Z",
     "iopub.status.idle": "2024-04-02T05:33:59.813798Z",
     "shell.execute_reply": "2024-04-02T05:33:59.812545Z"
    },
    "id": "TYyUIXA60_K0",
    "outputId": "66059473-89f8-42e0-a95f-1230461fe534",
    "papermill": {
     "duration": 0.035096,
     "end_time": "2024-04-02T05:33:59.815765",
     "exception": false,
     "start_time": "2024-04-02T05:33:59.780669",
     "status": "completed"
    },
    "tags": []
   },
   "outputs": [
    {
     "name": "stdout",
     "output_type": "stream",
     "text": [
      "Index([], dtype='int64')\n"
     ]
    }
   ],
   "source": [
    "\n",
    "# Find the indices of rows with NaN values in any column\n",
    "nan_indices = x.index[x.isna().any(axis=1)]\n",
    "\n",
    "# Print the indices\n",
    "print(nan_indices)\n"
   ]
  },
  {
   "cell_type": "code",
   "execution_count": 24,
   "id": "e382cf4e",
   "metadata": {
    "execution": {
     "iopub.execute_input": "2024-04-02T05:33:59.862305Z",
     "iopub.status.busy": "2024-04-02T05:33:59.862016Z",
     "iopub.status.idle": "2024-04-02T05:33:59.866997Z",
     "shell.execute_reply": "2024-04-02T05:33:59.866158Z"
    },
    "papermill": {
     "duration": 0.030064,
     "end_time": "2024-04-02T05:33:59.868866",
     "exception": false,
     "start_time": "2024-04-02T05:33:59.838802",
     "status": "completed"
    },
    "tags": []
   },
   "outputs": [],
   "source": [
    "fitting_data = pd.concat([x['Recipe_Review'],test_data['Recipe_Review']])"
   ]
  },
  {
   "cell_type": "code",
   "execution_count": 25,
   "id": "0946250e",
   "metadata": {
    "execution": {
     "iopub.execute_input": "2024-04-02T05:33:59.915422Z",
     "iopub.status.busy": "2024-04-02T05:33:59.914875Z",
     "iopub.status.idle": "2024-04-02T05:33:59.921998Z",
     "shell.execute_reply": "2024-04-02T05:33:59.921167Z"
    },
    "papermill": {
     "duration": 0.03236,
     "end_time": "2024-04-02T05:33:59.923914",
     "exception": false,
     "start_time": "2024-04-02T05:33:59.891554",
     "status": "completed"
    },
    "tags": []
   },
   "outputs": [
    {
     "data": {
      "text/plain": [
       "1       This is an easy and quick recipe that is great...\n",
       "2       I think I was looking for something extra spec...\n",
       "3       This is our favorite grilled chicken recipe.  ...\n",
       "4       Great basic recipe. I added 2 teaspoons Tuscan...\n",
       "5        Absolutely delicious!   Easy, tasty and filling!\n",
       "                              ...                        \n",
       "4541    This is an absolutely wonderful seafood recipe...\n",
       "4542    This us a definite &#34;OMG&#34;.  Tastes sinf...\n",
       "4543    absolutely great....even husband and grandson ...\n",
       "4544    I followed directions. It tastes very bland. V...\n",
       "4545    After reading the amazing reviews, I decided t...\n",
       "Name: Recipe_Review, Length: 17252, dtype: object"
      ]
     },
     "execution_count": 25,
     "metadata": {},
     "output_type": "execute_result"
    }
   ],
   "source": [
    "fitting_data"
   ]
  },
  {
   "cell_type": "code",
   "execution_count": 26,
   "id": "7e7487af",
   "metadata": {
    "execution": {
     "iopub.execute_input": "2024-04-02T05:33:59.970955Z",
     "iopub.status.busy": "2024-04-02T05:33:59.970640Z",
     "iopub.status.idle": "2024-04-02T05:34:00.707878Z",
     "shell.execute_reply": "2024-04-02T05:34:00.706973Z"
    },
    "id": "oIO7I7_ad8bY",
    "outputId": "8f6d6fa0-9569-40fd-f728-6484346a3826",
    "papermill": {
     "duration": 0.76297,
     "end_time": "2024-04-02T05:34:00.709823",
     "exception": false,
     "start_time": "2024-04-02T05:33:59.946853",
     "status": "completed"
    },
    "tags": []
   },
   "outputs": [
    {
     "data": {
      "text/html": [
       "<style>#sk-container-id-1 {color: black;background-color: white;}#sk-container-id-1 pre{padding: 0;}#sk-container-id-1 div.sk-toggleable {background-color: white;}#sk-container-id-1 label.sk-toggleable__label {cursor: pointer;display: block;width: 100%;margin-bottom: 0;padding: 0.3em;box-sizing: border-box;text-align: center;}#sk-container-id-1 label.sk-toggleable__label-arrow:before {content: \"▸\";float: left;margin-right: 0.25em;color: #696969;}#sk-container-id-1 label.sk-toggleable__label-arrow:hover:before {color: black;}#sk-container-id-1 div.sk-estimator:hover label.sk-toggleable__label-arrow:before {color: black;}#sk-container-id-1 div.sk-toggleable__content {max-height: 0;max-width: 0;overflow: hidden;text-align: left;background-color: #f0f8ff;}#sk-container-id-1 div.sk-toggleable__content pre {margin: 0.2em;color: black;border-radius: 0.25em;background-color: #f0f8ff;}#sk-container-id-1 input.sk-toggleable__control:checked~div.sk-toggleable__content {max-height: 200px;max-width: 100%;overflow: auto;}#sk-container-id-1 input.sk-toggleable__control:checked~label.sk-toggleable__label-arrow:before {content: \"▾\";}#sk-container-id-1 div.sk-estimator input.sk-toggleable__control:checked~label.sk-toggleable__label {background-color: #d4ebff;}#sk-container-id-1 div.sk-label input.sk-toggleable__control:checked~label.sk-toggleable__label {background-color: #d4ebff;}#sk-container-id-1 input.sk-hidden--visually {border: 0;clip: rect(1px 1px 1px 1px);clip: rect(1px, 1px, 1px, 1px);height: 1px;margin: -1px;overflow: hidden;padding: 0;position: absolute;width: 1px;}#sk-container-id-1 div.sk-estimator {font-family: monospace;background-color: #f0f8ff;border: 1px dotted black;border-radius: 0.25em;box-sizing: border-box;margin-bottom: 0.5em;}#sk-container-id-1 div.sk-estimator:hover {background-color: #d4ebff;}#sk-container-id-1 div.sk-parallel-item::after {content: \"\";width: 100%;border-bottom: 1px solid gray;flex-grow: 1;}#sk-container-id-1 div.sk-label:hover label.sk-toggleable__label {background-color: #d4ebff;}#sk-container-id-1 div.sk-serial::before {content: \"\";position: absolute;border-left: 1px solid gray;box-sizing: border-box;top: 0;bottom: 0;left: 50%;z-index: 0;}#sk-container-id-1 div.sk-serial {display: flex;flex-direction: column;align-items: center;background-color: white;padding-right: 0.2em;padding-left: 0.2em;position: relative;}#sk-container-id-1 div.sk-item {position: relative;z-index: 1;}#sk-container-id-1 div.sk-parallel {display: flex;align-items: stretch;justify-content: center;background-color: white;position: relative;}#sk-container-id-1 div.sk-item::before, #sk-container-id-1 div.sk-parallel-item::before {content: \"\";position: absolute;border-left: 1px solid gray;box-sizing: border-box;top: 0;bottom: 0;left: 50%;z-index: -1;}#sk-container-id-1 div.sk-parallel-item {display: flex;flex-direction: column;z-index: 1;position: relative;background-color: white;}#sk-container-id-1 div.sk-parallel-item:first-child::after {align-self: flex-end;width: 50%;}#sk-container-id-1 div.sk-parallel-item:last-child::after {align-self: flex-start;width: 50%;}#sk-container-id-1 div.sk-parallel-item:only-child::after {width: 0;}#sk-container-id-1 div.sk-dashed-wrapped {border: 1px dashed gray;margin: 0 0.4em 0.5em 0.4em;box-sizing: border-box;padding-bottom: 0.4em;background-color: white;}#sk-container-id-1 div.sk-label label {font-family: monospace;font-weight: bold;display: inline-block;line-height: 1.2em;}#sk-container-id-1 div.sk-label-container {text-align: center;}#sk-container-id-1 div.sk-container {/* jupyter's `normalize.less` sets `[hidden] { display: none; }` but bootstrap.min.css set `[hidden] { display: none !important; }` so we also need the `!important` here to be able to override the default hidden behavior on the sphinx rendered scikit-learn.org. See: https://github.com/scikit-learn/scikit-learn/issues/21755 */display: inline-block !important;position: relative;}#sk-container-id-1 div.sk-text-repr-fallback {display: none;}</style><div id=\"sk-container-id-1\" class=\"sk-top-container\"><div class=\"sk-text-repr-fallback\"><pre>TfidfVectorizer(max_features=6151, stop_words=&#x27;english&#x27;)</pre><b>In a Jupyter environment, please rerun this cell to show the HTML representation or trust the notebook. <br />On GitHub, the HTML representation is unable to render, please try loading this page with nbviewer.org.</b></div><div class=\"sk-container\" hidden><div class=\"sk-item\"><div class=\"sk-estimator sk-toggleable\"><input class=\"sk-toggleable__control sk-hidden--visually\" id=\"sk-estimator-id-1\" type=\"checkbox\" checked><label for=\"sk-estimator-id-1\" class=\"sk-toggleable__label sk-toggleable__label-arrow\">TfidfVectorizer</label><div class=\"sk-toggleable__content\"><pre>TfidfVectorizer(max_features=6151, stop_words=&#x27;english&#x27;)</pre></div></div></div></div></div>"
      ],
      "text/plain": [
       "TfidfVectorizer(max_features=6151, stop_words='english')"
      ]
     },
     "execution_count": 26,
     "metadata": {},
     "output_type": "execute_result"
    }
   ],
   "source": [
    "from sklearn.feature_extraction.text import TfidfVectorizer\n",
    "\n",
    "# Create a TfidfVectorizer object with stop words\n",
    "vectorizer = TfidfVectorizer(max_features=6151,stop_words='english')\n",
    "\n",
    "vectorizer.fit(fitting_data)\n",
    "\n",
    "\n"
   ]
  },
  {
   "cell_type": "code",
   "execution_count": 27,
   "id": "80519727",
   "metadata": {
    "execution": {
     "iopub.execute_input": "2024-04-02T05:34:00.757860Z",
     "iopub.status.busy": "2024-04-02T05:34:00.757536Z",
     "iopub.status.idle": "2024-04-02T05:34:01.258759Z",
     "shell.execute_reply": "2024-04-02T05:34:01.257500Z"
    },
    "papermill": {
     "duration": 0.527644,
     "end_time": "2024-04-02T05:34:01.261118",
     "exception": false,
     "start_time": "2024-04-02T05:34:00.733474",
     "status": "completed"
    },
    "tags": []
   },
   "outputs": [
    {
     "name": "stdout",
     "output_type": "stream",
     "text": [
      "(12706, 6151)\n"
     ]
    }
   ],
   "source": [
    "# Fit and transform the 'Recipe_Review' column\n",
    "x_transformed_review = vectorizer.transform(x['Recipe_Review'])\n",
    "\n",
    "# Print the shape of the transformed data\n",
    "print(x_transformed_review.shape)"
   ]
  },
  {
   "cell_type": "code",
   "execution_count": 28,
   "id": "97bdcddc",
   "metadata": {
    "execution": {
     "iopub.execute_input": "2024-04-02T05:34:01.310383Z",
     "iopub.status.busy": "2024-04-02T05:34:01.310095Z",
     "iopub.status.idle": "2024-04-02T05:34:01.838345Z",
     "shell.execute_reply": "2024-04-02T05:34:01.837438Z"
    },
    "id": "Refk5FmQ1Umt",
    "outputId": "b00ded9f-88fd-4bc9-a3a8-19d81c73a2a6",
    "papermill": {
     "duration": 0.555164,
     "end_time": "2024-04-02T05:34:01.840592",
     "exception": false,
     "start_time": "2024-04-02T05:34:01.285428",
     "status": "completed"
    },
    "tags": []
   },
   "outputs": [
    {
     "data": {
      "text/html": [
       "<div>\n",
       "<style scoped>\n",
       "    .dataframe tbody tr th:only-of-type {\n",
       "        vertical-align: middle;\n",
       "    }\n",
       "\n",
       "    .dataframe tbody tr th {\n",
       "        vertical-align: top;\n",
       "    }\n",
       "\n",
       "    .dataframe thead th {\n",
       "        text-align: right;\n",
       "    }\n",
       "</style>\n",
       "<table border=\"1\" class=\"dataframe\">\n",
       "  <thead>\n",
       "    <tr style=\"text-align: right;\">\n",
       "      <th></th>\n",
       "      <th>00</th>\n",
       "      <th>02</th>\n",
       "      <th>03</th>\n",
       "      <th>05</th>\n",
       "      <th>08</th>\n",
       "      <th>10</th>\n",
       "      <th>100</th>\n",
       "      <th>10x</th>\n",
       "      <th>10x13</th>\n",
       "      <th>11</th>\n",
       "      <th>...</th>\n",
       "      <th>ziplock</th>\n",
       "      <th>zipper</th>\n",
       "      <th>zippy</th>\n",
       "      <th>zoodles</th>\n",
       "      <th>zucc</th>\n",
       "      <th>zucchini</th>\n",
       "      <th>zucchinis</th>\n",
       "      <th>zuchini</th>\n",
       "      <th>zuchinni</th>\n",
       "      <th>zucs</th>\n",
       "    </tr>\n",
       "  </thead>\n",
       "  <tbody>\n",
       "    <tr>\n",
       "      <th>0</th>\n",
       "      <td>0.0</td>\n",
       "      <td>0.0</td>\n",
       "      <td>0.0</td>\n",
       "      <td>0.0</td>\n",
       "      <td>0.0</td>\n",
       "      <td>0.0</td>\n",
       "      <td>0.0</td>\n",
       "      <td>0.0</td>\n",
       "      <td>0.0</td>\n",
       "      <td>0.0</td>\n",
       "      <td>...</td>\n",
       "      <td>0.0</td>\n",
       "      <td>0.0</td>\n",
       "      <td>0.0</td>\n",
       "      <td>0.0</td>\n",
       "      <td>0.0</td>\n",
       "      <td>0.0</td>\n",
       "      <td>0.0</td>\n",
       "      <td>0.0</td>\n",
       "      <td>0.0</td>\n",
       "      <td>0.0</td>\n",
       "    </tr>\n",
       "    <tr>\n",
       "      <th>1</th>\n",
       "      <td>0.0</td>\n",
       "      <td>0.0</td>\n",
       "      <td>0.0</td>\n",
       "      <td>0.0</td>\n",
       "      <td>0.0</td>\n",
       "      <td>0.0</td>\n",
       "      <td>0.0</td>\n",
       "      <td>0.0</td>\n",
       "      <td>0.0</td>\n",
       "      <td>0.0</td>\n",
       "      <td>...</td>\n",
       "      <td>0.0</td>\n",
       "      <td>0.0</td>\n",
       "      <td>0.0</td>\n",
       "      <td>0.0</td>\n",
       "      <td>0.0</td>\n",
       "      <td>0.0</td>\n",
       "      <td>0.0</td>\n",
       "      <td>0.0</td>\n",
       "      <td>0.0</td>\n",
       "      <td>0.0</td>\n",
       "    </tr>\n",
       "    <tr>\n",
       "      <th>2</th>\n",
       "      <td>0.0</td>\n",
       "      <td>0.0</td>\n",
       "      <td>0.0</td>\n",
       "      <td>0.0</td>\n",
       "      <td>0.0</td>\n",
       "      <td>0.0</td>\n",
       "      <td>0.0</td>\n",
       "      <td>0.0</td>\n",
       "      <td>0.0</td>\n",
       "      <td>0.0</td>\n",
       "      <td>...</td>\n",
       "      <td>0.0</td>\n",
       "      <td>0.0</td>\n",
       "      <td>0.0</td>\n",
       "      <td>0.0</td>\n",
       "      <td>0.0</td>\n",
       "      <td>0.0</td>\n",
       "      <td>0.0</td>\n",
       "      <td>0.0</td>\n",
       "      <td>0.0</td>\n",
       "      <td>0.0</td>\n",
       "    </tr>\n",
       "    <tr>\n",
       "      <th>3</th>\n",
       "      <td>0.0</td>\n",
       "      <td>0.0</td>\n",
       "      <td>0.0</td>\n",
       "      <td>0.0</td>\n",
       "      <td>0.0</td>\n",
       "      <td>0.0</td>\n",
       "      <td>0.0</td>\n",
       "      <td>0.0</td>\n",
       "      <td>0.0</td>\n",
       "      <td>0.0</td>\n",
       "      <td>...</td>\n",
       "      <td>0.0</td>\n",
       "      <td>0.0</td>\n",
       "      <td>0.0</td>\n",
       "      <td>0.0</td>\n",
       "      <td>0.0</td>\n",
       "      <td>0.0</td>\n",
       "      <td>0.0</td>\n",
       "      <td>0.0</td>\n",
       "      <td>0.0</td>\n",
       "      <td>0.0</td>\n",
       "    </tr>\n",
       "    <tr>\n",
       "      <th>4</th>\n",
       "      <td>0.0</td>\n",
       "      <td>0.0</td>\n",
       "      <td>0.0</td>\n",
       "      <td>0.0</td>\n",
       "      <td>0.0</td>\n",
       "      <td>0.0</td>\n",
       "      <td>0.0</td>\n",
       "      <td>0.0</td>\n",
       "      <td>0.0</td>\n",
       "      <td>0.0</td>\n",
       "      <td>...</td>\n",
       "      <td>0.0</td>\n",
       "      <td>0.0</td>\n",
       "      <td>0.0</td>\n",
       "      <td>0.0</td>\n",
       "      <td>0.0</td>\n",
       "      <td>0.0</td>\n",
       "      <td>0.0</td>\n",
       "      <td>0.0</td>\n",
       "      <td>0.0</td>\n",
       "      <td>0.0</td>\n",
       "    </tr>\n",
       "    <tr>\n",
       "      <th>...</th>\n",
       "      <td>...</td>\n",
       "      <td>...</td>\n",
       "      <td>...</td>\n",
       "      <td>...</td>\n",
       "      <td>...</td>\n",
       "      <td>...</td>\n",
       "      <td>...</td>\n",
       "      <td>...</td>\n",
       "      <td>...</td>\n",
       "      <td>...</td>\n",
       "      <td>...</td>\n",
       "      <td>...</td>\n",
       "      <td>...</td>\n",
       "      <td>...</td>\n",
       "      <td>...</td>\n",
       "      <td>...</td>\n",
       "      <td>...</td>\n",
       "      <td>...</td>\n",
       "      <td>...</td>\n",
       "      <td>...</td>\n",
       "      <td>...</td>\n",
       "    </tr>\n",
       "    <tr>\n",
       "      <th>12701</th>\n",
       "      <td>0.0</td>\n",
       "      <td>0.0</td>\n",
       "      <td>0.0</td>\n",
       "      <td>0.0</td>\n",
       "      <td>0.0</td>\n",
       "      <td>0.0</td>\n",
       "      <td>0.0</td>\n",
       "      <td>0.0</td>\n",
       "      <td>0.0</td>\n",
       "      <td>0.0</td>\n",
       "      <td>...</td>\n",
       "      <td>0.0</td>\n",
       "      <td>0.0</td>\n",
       "      <td>0.0</td>\n",
       "      <td>0.0</td>\n",
       "      <td>0.0</td>\n",
       "      <td>0.0</td>\n",
       "      <td>0.0</td>\n",
       "      <td>0.0</td>\n",
       "      <td>0.0</td>\n",
       "      <td>0.0</td>\n",
       "    </tr>\n",
       "    <tr>\n",
       "      <th>12702</th>\n",
       "      <td>0.0</td>\n",
       "      <td>0.0</td>\n",
       "      <td>0.0</td>\n",
       "      <td>0.0</td>\n",
       "      <td>0.0</td>\n",
       "      <td>0.0</td>\n",
       "      <td>0.0</td>\n",
       "      <td>0.0</td>\n",
       "      <td>0.0</td>\n",
       "      <td>0.0</td>\n",
       "      <td>...</td>\n",
       "      <td>0.0</td>\n",
       "      <td>0.0</td>\n",
       "      <td>0.0</td>\n",
       "      <td>0.0</td>\n",
       "      <td>0.0</td>\n",
       "      <td>0.0</td>\n",
       "      <td>0.0</td>\n",
       "      <td>0.0</td>\n",
       "      <td>0.0</td>\n",
       "      <td>0.0</td>\n",
       "    </tr>\n",
       "    <tr>\n",
       "      <th>12703</th>\n",
       "      <td>0.0</td>\n",
       "      <td>0.0</td>\n",
       "      <td>0.0</td>\n",
       "      <td>0.0</td>\n",
       "      <td>0.0</td>\n",
       "      <td>0.0</td>\n",
       "      <td>0.0</td>\n",
       "      <td>0.0</td>\n",
       "      <td>0.0</td>\n",
       "      <td>0.0</td>\n",
       "      <td>...</td>\n",
       "      <td>0.0</td>\n",
       "      <td>0.0</td>\n",
       "      <td>0.0</td>\n",
       "      <td>0.0</td>\n",
       "      <td>0.0</td>\n",
       "      <td>0.0</td>\n",
       "      <td>0.0</td>\n",
       "      <td>0.0</td>\n",
       "      <td>0.0</td>\n",
       "      <td>0.0</td>\n",
       "    </tr>\n",
       "    <tr>\n",
       "      <th>12704</th>\n",
       "      <td>0.0</td>\n",
       "      <td>0.0</td>\n",
       "      <td>0.0</td>\n",
       "      <td>0.0</td>\n",
       "      <td>0.0</td>\n",
       "      <td>0.0</td>\n",
       "      <td>0.0</td>\n",
       "      <td>0.0</td>\n",
       "      <td>0.0</td>\n",
       "      <td>0.0</td>\n",
       "      <td>...</td>\n",
       "      <td>0.0</td>\n",
       "      <td>0.0</td>\n",
       "      <td>0.0</td>\n",
       "      <td>0.0</td>\n",
       "      <td>0.0</td>\n",
       "      <td>0.0</td>\n",
       "      <td>0.0</td>\n",
       "      <td>0.0</td>\n",
       "      <td>0.0</td>\n",
       "      <td>0.0</td>\n",
       "    </tr>\n",
       "    <tr>\n",
       "      <th>12705</th>\n",
       "      <td>0.0</td>\n",
       "      <td>0.0</td>\n",
       "      <td>0.0</td>\n",
       "      <td>0.0</td>\n",
       "      <td>0.0</td>\n",
       "      <td>0.0</td>\n",
       "      <td>0.0</td>\n",
       "      <td>0.0</td>\n",
       "      <td>0.0</td>\n",
       "      <td>0.0</td>\n",
       "      <td>...</td>\n",
       "      <td>0.0</td>\n",
       "      <td>0.0</td>\n",
       "      <td>0.0</td>\n",
       "      <td>0.0</td>\n",
       "      <td>0.0</td>\n",
       "      <td>0.0</td>\n",
       "      <td>0.0</td>\n",
       "      <td>0.0</td>\n",
       "      <td>0.0</td>\n",
       "      <td>0.0</td>\n",
       "    </tr>\n",
       "  </tbody>\n",
       "</table>\n",
       "<p>12706 rows × 6151 columns</p>\n",
       "</div>"
      ],
      "text/plain": [
       "        00   02   03   05   08   10  100  10x  10x13   11  ...  ziplock  \\\n",
       "0      0.0  0.0  0.0  0.0  0.0  0.0  0.0  0.0    0.0  0.0  ...      0.0   \n",
       "1      0.0  0.0  0.0  0.0  0.0  0.0  0.0  0.0    0.0  0.0  ...      0.0   \n",
       "2      0.0  0.0  0.0  0.0  0.0  0.0  0.0  0.0    0.0  0.0  ...      0.0   \n",
       "3      0.0  0.0  0.0  0.0  0.0  0.0  0.0  0.0    0.0  0.0  ...      0.0   \n",
       "4      0.0  0.0  0.0  0.0  0.0  0.0  0.0  0.0    0.0  0.0  ...      0.0   \n",
       "...    ...  ...  ...  ...  ...  ...  ...  ...    ...  ...  ...      ...   \n",
       "12701  0.0  0.0  0.0  0.0  0.0  0.0  0.0  0.0    0.0  0.0  ...      0.0   \n",
       "12702  0.0  0.0  0.0  0.0  0.0  0.0  0.0  0.0    0.0  0.0  ...      0.0   \n",
       "12703  0.0  0.0  0.0  0.0  0.0  0.0  0.0  0.0    0.0  0.0  ...      0.0   \n",
       "12704  0.0  0.0  0.0  0.0  0.0  0.0  0.0  0.0    0.0  0.0  ...      0.0   \n",
       "12705  0.0  0.0  0.0  0.0  0.0  0.0  0.0  0.0    0.0  0.0  ...      0.0   \n",
       "\n",
       "       zipper  zippy  zoodles  zucc  zucchini  zucchinis  zuchini  zuchinni  \\\n",
       "0         0.0    0.0      0.0   0.0       0.0        0.0      0.0       0.0   \n",
       "1         0.0    0.0      0.0   0.0       0.0        0.0      0.0       0.0   \n",
       "2         0.0    0.0      0.0   0.0       0.0        0.0      0.0       0.0   \n",
       "3         0.0    0.0      0.0   0.0       0.0        0.0      0.0       0.0   \n",
       "4         0.0    0.0      0.0   0.0       0.0        0.0      0.0       0.0   \n",
       "...       ...    ...      ...   ...       ...        ...      ...       ...   \n",
       "12701     0.0    0.0      0.0   0.0       0.0        0.0      0.0       0.0   \n",
       "12702     0.0    0.0      0.0   0.0       0.0        0.0      0.0       0.0   \n",
       "12703     0.0    0.0      0.0   0.0       0.0        0.0      0.0       0.0   \n",
       "12704     0.0    0.0      0.0   0.0       0.0        0.0      0.0       0.0   \n",
       "12705     0.0    0.0      0.0   0.0       0.0        0.0      0.0       0.0   \n",
       "\n",
       "       zucs  \n",
       "0       0.0  \n",
       "1       0.0  \n",
       "2       0.0  \n",
       "3       0.0  \n",
       "4       0.0  \n",
       "...     ...  \n",
       "12701   0.0  \n",
       "12702   0.0  \n",
       "12703   0.0  \n",
       "12704   0.0  \n",
       "12705   0.0  \n",
       "\n",
       "[12706 rows x 6151 columns]"
      ]
     },
     "execution_count": 28,
     "metadata": {},
     "output_type": "execute_result"
    }
   ],
   "source": [
    "x_transformed_review_df = pd.DataFrame(x_transformed_review.toarray(), columns=vectorizer.get_feature_names_out())\n",
    "\n",
    "x_transformed_review_df"
   ]
  },
  {
   "cell_type": "code",
   "execution_count": 29,
   "id": "916fb259",
   "metadata": {
    "execution": {
     "iopub.execute_input": "2024-04-02T05:34:01.891130Z",
     "iopub.status.busy": "2024-04-02T05:34:01.890838Z",
     "iopub.status.idle": "2024-04-02T05:34:01.896397Z",
     "shell.execute_reply": "2024-04-02T05:34:01.895372Z"
    },
    "id": "dImf0zUP4R74",
    "outputId": "42384386-b7b4-483e-865b-0f4f539a7351",
    "papermill": {
     "duration": 0.032547,
     "end_time": "2024-04-02T05:34:01.898388",
     "exception": false,
     "start_time": "2024-04-02T05:34:01.865841",
     "status": "completed"
    },
    "tags": []
   },
   "outputs": [
    {
     "data": {
      "text/plain": [
       "(12706, 7)"
      ]
     },
     "execution_count": 29,
     "metadata": {},
     "output_type": "execute_result"
    }
   ],
   "source": [
    "x.shape"
   ]
  },
  {
   "cell_type": "code",
   "execution_count": 30,
   "id": "4eb6e534",
   "metadata": {
    "execution": {
     "iopub.execute_input": "2024-04-02T05:34:01.947343Z",
     "iopub.status.busy": "2024-04-02T05:34:01.947064Z",
     "iopub.status.idle": "2024-04-02T05:34:03.404226Z",
     "shell.execute_reply": "2024-04-02T05:34:03.403425Z"
    },
    "id": "ItAzm45C1Yzk",
    "papermill": {
     "duration": 1.484241,
     "end_time": "2024-04-02T05:34:03.406461",
     "exception": false,
     "start_time": "2024-04-02T05:34:01.922220",
     "status": "completed"
    },
    "tags": []
   },
   "outputs": [],
   "source": [
    "x = pd.concat([x.reset_index(drop=True), x_transformed_review_df.reset_index(drop=True)], axis=1)"
   ]
  },
  {
   "cell_type": "code",
   "execution_count": 31,
   "id": "59c9458c",
   "metadata": {
    "execution": {
     "iopub.execute_input": "2024-04-02T05:34:03.458084Z",
     "iopub.status.busy": "2024-04-02T05:34:03.457802Z",
     "iopub.status.idle": "2024-04-02T05:34:03.463553Z",
     "shell.execute_reply": "2024-04-02T05:34:03.462662Z"
    },
    "id": "vQxpKuHa3vau",
    "outputId": "764e03e3-454f-4198-8c6a-4679623fb71c",
    "papermill": {
     "duration": 0.03278,
     "end_time": "2024-04-02T05:34:03.465448",
     "exception": false,
     "start_time": "2024-04-02T05:34:03.432668",
     "status": "completed"
    },
    "tags": []
   },
   "outputs": [
    {
     "data": {
      "text/plain": [
       "(12706, 6158)"
      ]
     },
     "execution_count": 31,
     "metadata": {},
     "output_type": "execute_result"
    }
   ],
   "source": [
    "x.shape"
   ]
  },
  {
   "cell_type": "code",
   "execution_count": 32,
   "id": "58c2fa21",
   "metadata": {
    "execution": {
     "iopub.execute_input": "2024-04-02T05:34:03.515482Z",
     "iopub.status.busy": "2024-04-02T05:34:03.515195Z",
     "iopub.status.idle": "2024-04-02T05:34:03.557004Z",
     "shell.execute_reply": "2024-04-02T05:34:03.556137Z"
    },
    "id": "AOeBN2T95HSQ",
    "outputId": "de7f734d-c3f7-4478-803b-37274a984aa2",
    "papermill": {
     "duration": 0.069067,
     "end_time": "2024-04-02T05:34:03.559072",
     "exception": false,
     "start_time": "2024-04-02T05:34:03.490005",
     "status": "completed"
    },
    "tags": []
   },
   "outputs": [
    {
     "data": {
      "text/html": [
       "<div>\n",
       "<style scoped>\n",
       "    .dataframe tbody tr th:only-of-type {\n",
       "        vertical-align: middle;\n",
       "    }\n",
       "\n",
       "    .dataframe tbody tr th {\n",
       "        vertical-align: top;\n",
       "    }\n",
       "\n",
       "    .dataframe thead th {\n",
       "        text-align: right;\n",
       "    }\n",
       "</style>\n",
       "<table border=\"1\" class=\"dataframe\">\n",
       "  <thead>\n",
       "    <tr style=\"text-align: right;\">\n",
       "      <th></th>\n",
       "      <th>UserReputation</th>\n",
       "      <th>ReplyCount</th>\n",
       "      <th>ThumbsUpCount</th>\n",
       "      <th>ThumbsDownCount</th>\n",
       "      <th>Rating</th>\n",
       "      <th>BestScore</th>\n",
       "      <th>Recipe_Review</th>\n",
       "      <th>00</th>\n",
       "      <th>02</th>\n",
       "      <th>03</th>\n",
       "      <th>...</th>\n",
       "      <th>ziplock</th>\n",
       "      <th>zipper</th>\n",
       "      <th>zippy</th>\n",
       "      <th>zoodles</th>\n",
       "      <th>zucc</th>\n",
       "      <th>zucchini</th>\n",
       "      <th>zucchinis</th>\n",
       "      <th>zuchini</th>\n",
       "      <th>zuchinni</th>\n",
       "      <th>zucs</th>\n",
       "    </tr>\n",
       "  </thead>\n",
       "  <tbody>\n",
       "    <tr>\n",
       "      <th>0</th>\n",
       "      <td>0.0</td>\n",
       "      <td>-0.099564</td>\n",
       "      <td>-0.251453</td>\n",
       "      <td>0.156674</td>\n",
       "      <td>5</td>\n",
       "      <td>-0.358093</td>\n",
       "      <td>This is an easy and quick recipe that is great...</td>\n",
       "      <td>0.0</td>\n",
       "      <td>0.0</td>\n",
       "      <td>0.0</td>\n",
       "      <td>...</td>\n",
       "      <td>0.0</td>\n",
       "      <td>0.0</td>\n",
       "      <td>0.0</td>\n",
       "      <td>0.0</td>\n",
       "      <td>0.0</td>\n",
       "      <td>0.0</td>\n",
       "      <td>0.0</td>\n",
       "      <td>0.0</td>\n",
       "      <td>0.0</td>\n",
       "      <td>0.0</td>\n",
       "    </tr>\n",
       "    <tr>\n",
       "      <th>1</th>\n",
       "      <td>0.0</td>\n",
       "      <td>-0.099564</td>\n",
       "      <td>-0.251453</td>\n",
       "      <td>-0.158409</td>\n",
       "      <td>3</td>\n",
       "      <td>-0.358093</td>\n",
       "      <td>I think I was looking for something extra spec...</td>\n",
       "      <td>0.0</td>\n",
       "      <td>0.0</td>\n",
       "      <td>0.0</td>\n",
       "      <td>...</td>\n",
       "      <td>0.0</td>\n",
       "      <td>0.0</td>\n",
       "      <td>0.0</td>\n",
       "      <td>0.0</td>\n",
       "      <td>0.0</td>\n",
       "      <td>0.0</td>\n",
       "      <td>0.0</td>\n",
       "      <td>0.0</td>\n",
       "      <td>0.0</td>\n",
       "      <td>0.0</td>\n",
       "    </tr>\n",
       "    <tr>\n",
       "      <th>2</th>\n",
       "      <td>0.0</td>\n",
       "      <td>-0.099564</td>\n",
       "      <td>-0.251453</td>\n",
       "      <td>-0.158409</td>\n",
       "      <td>5</td>\n",
       "      <td>-0.358093</td>\n",
       "      <td>This is our favorite grilled chicken recipe.  ...</td>\n",
       "      <td>0.0</td>\n",
       "      <td>0.0</td>\n",
       "      <td>0.0</td>\n",
       "      <td>...</td>\n",
       "      <td>0.0</td>\n",
       "      <td>0.0</td>\n",
       "      <td>0.0</td>\n",
       "      <td>0.0</td>\n",
       "      <td>0.0</td>\n",
       "      <td>0.0</td>\n",
       "      <td>0.0</td>\n",
       "      <td>0.0</td>\n",
       "      <td>0.0</td>\n",
       "      <td>0.0</td>\n",
       "    </tr>\n",
       "    <tr>\n",
       "      <th>3</th>\n",
       "      <td>0.0</td>\n",
       "      <td>-0.099564</td>\n",
       "      <td>-0.251453</td>\n",
       "      <td>-0.158409</td>\n",
       "      <td>4</td>\n",
       "      <td>-0.358093</td>\n",
       "      <td>Great basic recipe. I added 2 teaspoons Tuscan...</td>\n",
       "      <td>0.0</td>\n",
       "      <td>0.0</td>\n",
       "      <td>0.0</td>\n",
       "      <td>...</td>\n",
       "      <td>0.0</td>\n",
       "      <td>0.0</td>\n",
       "      <td>0.0</td>\n",
       "      <td>0.0</td>\n",
       "      <td>0.0</td>\n",
       "      <td>0.0</td>\n",
       "      <td>0.0</td>\n",
       "      <td>0.0</td>\n",
       "      <td>0.0</td>\n",
       "      <td>0.0</td>\n",
       "    </tr>\n",
       "    <tr>\n",
       "      <th>4</th>\n",
       "      <td>0.0</td>\n",
       "      <td>-0.099564</td>\n",
       "      <td>0.002862</td>\n",
       "      <td>-0.158409</td>\n",
       "      <td>5</td>\n",
       "      <td>0.331920</td>\n",
       "      <td>Absolutely delicious!   Easy, tasty and filling!</td>\n",
       "      <td>0.0</td>\n",
       "      <td>0.0</td>\n",
       "      <td>0.0</td>\n",
       "      <td>...</td>\n",
       "      <td>0.0</td>\n",
       "      <td>0.0</td>\n",
       "      <td>0.0</td>\n",
       "      <td>0.0</td>\n",
       "      <td>0.0</td>\n",
       "      <td>0.0</td>\n",
       "      <td>0.0</td>\n",
       "      <td>0.0</td>\n",
       "      <td>0.0</td>\n",
       "      <td>0.0</td>\n",
       "    </tr>\n",
       "    <tr>\n",
       "      <th>...</th>\n",
       "      <td>...</td>\n",
       "      <td>...</td>\n",
       "      <td>...</td>\n",
       "      <td>...</td>\n",
       "      <td>...</td>\n",
       "      <td>...</td>\n",
       "      <td>...</td>\n",
       "      <td>...</td>\n",
       "      <td>...</td>\n",
       "      <td>...</td>\n",
       "      <td>...</td>\n",
       "      <td>...</td>\n",
       "      <td>...</td>\n",
       "      <td>...</td>\n",
       "      <td>...</td>\n",
       "      <td>...</td>\n",
       "      <td>...</td>\n",
       "      <td>...</td>\n",
       "      <td>...</td>\n",
       "      <td>...</td>\n",
       "      <td>...</td>\n",
       "    </tr>\n",
       "    <tr>\n",
       "      <th>12701</th>\n",
       "      <td>0.0</td>\n",
       "      <td>-0.099564</td>\n",
       "      <td>-0.251453</td>\n",
       "      <td>-0.158409</td>\n",
       "      <td>5</td>\n",
       "      <td>-0.358093</td>\n",
       "      <td>Delicious!! Very easy to make! One minor chang...</td>\n",
       "      <td>0.0</td>\n",
       "      <td>0.0</td>\n",
       "      <td>0.0</td>\n",
       "      <td>...</td>\n",
       "      <td>0.0</td>\n",
       "      <td>0.0</td>\n",
       "      <td>0.0</td>\n",
       "      <td>0.0</td>\n",
       "      <td>0.0</td>\n",
       "      <td>0.0</td>\n",
       "      <td>0.0</td>\n",
       "      <td>0.0</td>\n",
       "      <td>0.0</td>\n",
       "      <td>0.0</td>\n",
       "    </tr>\n",
       "    <tr>\n",
       "      <th>12702</th>\n",
       "      <td>0.0</td>\n",
       "      <td>-0.099564</td>\n",
       "      <td>-0.251453</td>\n",
       "      <td>-0.158409</td>\n",
       "      <td>5</td>\n",
       "      <td>-0.358093</td>\n",
       "      <td>I made this pie for my family and they loved i...</td>\n",
       "      <td>0.0</td>\n",
       "      <td>0.0</td>\n",
       "      <td>0.0</td>\n",
       "      <td>...</td>\n",
       "      <td>0.0</td>\n",
       "      <td>0.0</td>\n",
       "      <td>0.0</td>\n",
       "      <td>0.0</td>\n",
       "      <td>0.0</td>\n",
       "      <td>0.0</td>\n",
       "      <td>0.0</td>\n",
       "      <td>0.0</td>\n",
       "      <td>0.0</td>\n",
       "      <td>0.0</td>\n",
       "    </tr>\n",
       "    <tr>\n",
       "      <th>12703</th>\n",
       "      <td>0.0</td>\n",
       "      <td>-0.099564</td>\n",
       "      <td>-0.251453</td>\n",
       "      <td>-0.158409</td>\n",
       "      <td>5</td>\n",
       "      <td>-0.358093</td>\n",
       "      <td>Very tasty!</td>\n",
       "      <td>0.0</td>\n",
       "      <td>0.0</td>\n",
       "      <td>0.0</td>\n",
       "      <td>...</td>\n",
       "      <td>0.0</td>\n",
       "      <td>0.0</td>\n",
       "      <td>0.0</td>\n",
       "      <td>0.0</td>\n",
       "      <td>0.0</td>\n",
       "      <td>0.0</td>\n",
       "      <td>0.0</td>\n",
       "      <td>0.0</td>\n",
       "      <td>0.0</td>\n",
       "      <td>0.0</td>\n",
       "    </tr>\n",
       "    <tr>\n",
       "      <th>12704</th>\n",
       "      <td>0.0</td>\n",
       "      <td>-0.099564</td>\n",
       "      <td>-0.251453</td>\n",
       "      <td>-0.158409</td>\n",
       "      <td>5</td>\n",
       "      <td>-0.358093</td>\n",
       "      <td>I have made this numerous times.  It&amp;#39;s so ...</td>\n",
       "      <td>0.0</td>\n",
       "      <td>0.0</td>\n",
       "      <td>0.0</td>\n",
       "      <td>...</td>\n",
       "      <td>0.0</td>\n",
       "      <td>0.0</td>\n",
       "      <td>0.0</td>\n",
       "      <td>0.0</td>\n",
       "      <td>0.0</td>\n",
       "      <td>0.0</td>\n",
       "      <td>0.0</td>\n",
       "      <td>0.0</td>\n",
       "      <td>0.0</td>\n",
       "      <td>0.0</td>\n",
       "    </tr>\n",
       "    <tr>\n",
       "      <th>12705</th>\n",
       "      <td>0.0</td>\n",
       "      <td>-0.099564</td>\n",
       "      <td>-0.251453</td>\n",
       "      <td>-0.158409</td>\n",
       "      <td>5</td>\n",
       "      <td>-0.358093</td>\n",
       "      <td>Super. I added 1/2 lb chopped bacon to mine. H...</td>\n",
       "      <td>0.0</td>\n",
       "      <td>0.0</td>\n",
       "      <td>0.0</td>\n",
       "      <td>...</td>\n",
       "      <td>0.0</td>\n",
       "      <td>0.0</td>\n",
       "      <td>0.0</td>\n",
       "      <td>0.0</td>\n",
       "      <td>0.0</td>\n",
       "      <td>0.0</td>\n",
       "      <td>0.0</td>\n",
       "      <td>0.0</td>\n",
       "      <td>0.0</td>\n",
       "      <td>0.0</td>\n",
       "    </tr>\n",
       "  </tbody>\n",
       "</table>\n",
       "<p>12706 rows × 6158 columns</p>\n",
       "</div>"
      ],
      "text/plain": [
       "       UserReputation  ReplyCount  ThumbsUpCount  ThumbsDownCount  Rating  \\\n",
       "0                 0.0   -0.099564      -0.251453         0.156674       5   \n",
       "1                 0.0   -0.099564      -0.251453        -0.158409       3   \n",
       "2                 0.0   -0.099564      -0.251453        -0.158409       5   \n",
       "3                 0.0   -0.099564      -0.251453        -0.158409       4   \n",
       "4                 0.0   -0.099564       0.002862        -0.158409       5   \n",
       "...               ...         ...            ...              ...     ...   \n",
       "12701             0.0   -0.099564      -0.251453        -0.158409       5   \n",
       "12702             0.0   -0.099564      -0.251453        -0.158409       5   \n",
       "12703             0.0   -0.099564      -0.251453        -0.158409       5   \n",
       "12704             0.0   -0.099564      -0.251453        -0.158409       5   \n",
       "12705             0.0   -0.099564      -0.251453        -0.158409       5   \n",
       "\n",
       "       BestScore                                      Recipe_Review   00   02  \\\n",
       "0      -0.358093  This is an easy and quick recipe that is great...  0.0  0.0   \n",
       "1      -0.358093  I think I was looking for something extra spec...  0.0  0.0   \n",
       "2      -0.358093  This is our favorite grilled chicken recipe.  ...  0.0  0.0   \n",
       "3      -0.358093  Great basic recipe. I added 2 teaspoons Tuscan...  0.0  0.0   \n",
       "4       0.331920   Absolutely delicious!   Easy, tasty and filling!  0.0  0.0   \n",
       "...          ...                                                ...  ...  ...   \n",
       "12701  -0.358093  Delicious!! Very easy to make! One minor chang...  0.0  0.0   \n",
       "12702  -0.358093  I made this pie for my family and they loved i...  0.0  0.0   \n",
       "12703  -0.358093                                        Very tasty!  0.0  0.0   \n",
       "12704  -0.358093  I have made this numerous times.  It&#39;s so ...  0.0  0.0   \n",
       "12705  -0.358093  Super. I added 1/2 lb chopped bacon to mine. H...  0.0  0.0   \n",
       "\n",
       "        03  ...  ziplock  zipper  zippy  zoodles  zucc  zucchini  zucchinis  \\\n",
       "0      0.0  ...      0.0     0.0    0.0      0.0   0.0       0.0        0.0   \n",
       "1      0.0  ...      0.0     0.0    0.0      0.0   0.0       0.0        0.0   \n",
       "2      0.0  ...      0.0     0.0    0.0      0.0   0.0       0.0        0.0   \n",
       "3      0.0  ...      0.0     0.0    0.0      0.0   0.0       0.0        0.0   \n",
       "4      0.0  ...      0.0     0.0    0.0      0.0   0.0       0.0        0.0   \n",
       "...    ...  ...      ...     ...    ...      ...   ...       ...        ...   \n",
       "12701  0.0  ...      0.0     0.0    0.0      0.0   0.0       0.0        0.0   \n",
       "12702  0.0  ...      0.0     0.0    0.0      0.0   0.0       0.0        0.0   \n",
       "12703  0.0  ...      0.0     0.0    0.0      0.0   0.0       0.0        0.0   \n",
       "12704  0.0  ...      0.0     0.0    0.0      0.0   0.0       0.0        0.0   \n",
       "12705  0.0  ...      0.0     0.0    0.0      0.0   0.0       0.0        0.0   \n",
       "\n",
       "       zuchini  zuchinni  zucs  \n",
       "0          0.0       0.0   0.0  \n",
       "1          0.0       0.0   0.0  \n",
       "2          0.0       0.0   0.0  \n",
       "3          0.0       0.0   0.0  \n",
       "4          0.0       0.0   0.0  \n",
       "...        ...       ...   ...  \n",
       "12701      0.0       0.0   0.0  \n",
       "12702      0.0       0.0   0.0  \n",
       "12703      0.0       0.0   0.0  \n",
       "12704      0.0       0.0   0.0  \n",
       "12705      0.0       0.0   0.0  \n",
       "\n",
       "[12706 rows x 6158 columns]"
      ]
     },
     "execution_count": 32,
     "metadata": {},
     "output_type": "execute_result"
    }
   ],
   "source": [
    "x"
   ]
  },
  {
   "cell_type": "markdown",
   "id": "5e6c5aca",
   "metadata": {
    "papermill": {
     "duration": 0.024589,
     "end_time": "2024-04-02T05:34:03.609633",
     "exception": false,
     "start_time": "2024-04-02T05:34:03.585044",
     "status": "completed"
    },
    "tags": []
   },
   "source": [
    "# Performing Train test split\n",
    "\n",
    "As we know that provided test.csv don't have any Rating column , hence we will split the train file only into two parts for prediction and calculating accuracy score."
   ]
  },
  {
   "cell_type": "code",
   "execution_count": 33,
   "id": "8a46baef",
   "metadata": {
    "execution": {
     "iopub.execute_input": "2024-04-02T05:34:03.660096Z",
     "iopub.status.busy": "2024-04-02T05:34:03.659808Z",
     "iopub.status.idle": "2024-04-02T05:34:03.664406Z",
     "shell.execute_reply": "2024-04-02T05:34:03.663530Z"
    },
    "id": "Aavm8CYK5Wgy",
    "papermill": {
     "duration": 0.032291,
     "end_time": "2024-04-02T05:34:03.666328",
     "exception": false,
     "start_time": "2024-04-02T05:34:03.634037",
     "status": "completed"
    },
    "tags": []
   },
   "outputs": [],
   "source": [
    "\n",
    "x.columns = x.columns.astype(str)\n"
   ]
  },
  {
   "cell_type": "code",
   "execution_count": 34,
   "id": "c37c6bb4",
   "metadata": {
    "execution": {
     "iopub.execute_input": "2024-04-02T05:34:03.717883Z",
     "iopub.status.busy": "2024-04-02T05:34:03.717248Z",
     "iopub.status.idle": "2024-04-02T05:34:03.898503Z",
     "shell.execute_reply": "2024-04-02T05:34:03.897612Z"
    },
    "id": "MgYUXnSb5oKA",
    "papermill": {
     "duration": 0.209215,
     "end_time": "2024-04-02T05:34:03.900764",
     "exception": false,
     "start_time": "2024-04-02T05:34:03.691549",
     "status": "completed"
    },
    "tags": []
   },
   "outputs": [],
   "source": [
    "\n",
    "\n",
    "y = x['Rating']\n",
    "x = x.drop(['Rating', 'Recipe_Review'], axis=1)\n"
   ]
  },
  {
   "cell_type": "code",
   "execution_count": 35,
   "id": "18ddeb33",
   "metadata": {
    "execution": {
     "iopub.execute_input": "2024-04-02T05:34:03.951514Z",
     "iopub.status.busy": "2024-04-02T05:34:03.951220Z",
     "iopub.status.idle": "2024-04-02T05:34:04.357420Z",
     "shell.execute_reply": "2024-04-02T05:34:04.356584Z"
    },
    "id": "9VnbvgJg5fcO",
    "papermill": {
     "duration": 0.434453,
     "end_time": "2024-04-02T05:34:04.360267",
     "exception": false,
     "start_time": "2024-04-02T05:34:03.925814",
     "status": "completed"
    },
    "tags": []
   },
   "outputs": [],
   "source": [
    "from sklearn.model_selection import train_test_split\n",
    "\n",
    "# Split the data into training and testing sets\n",
    "X_train, X_test, y_train, y_test = train_test_split(x, y, test_size=0.2, random_state=42)\n"
   ]
  },
  {
   "cell_type": "code",
   "execution_count": 36,
   "id": "bc929d46",
   "metadata": {
    "execution": {
     "iopub.execute_input": "2024-04-02T05:34:04.413067Z",
     "iopub.status.busy": "2024-04-02T05:34:04.412294Z",
     "iopub.status.idle": "2024-04-02T05:34:13.945411Z",
     "shell.execute_reply": "2024-04-02T05:34:13.939194Z"
    },
    "papermill": {
     "duration": 9.563235,
     "end_time": "2024-04-02T05:34:13.949016",
     "exception": false,
     "start_time": "2024-04-02T05:34:04.385781",
     "status": "completed"
    },
    "tags": []
   },
   "outputs": [
    {
     "name": "stdout",
     "output_type": "stream",
     "text": [
      "0.7714398111723053\n"
     ]
    },
    {
     "name": "stderr",
     "output_type": "stream",
     "text": [
      "/opt/conda/lib/python3.10/site-packages/sklearn/svm/_base.py:1244: ConvergenceWarning: Liblinear failed to converge, increase the number of iterations.\n",
      "  warnings.warn(\n"
     ]
    }
   ],
   "source": [
    "from sklearn.svm import LinearSVC\n",
    "from sklearn.metrics import accuracy_score\n",
    "\n",
    "# Create a LinearSVC classifier\n",
    "clf1 = LinearSVC(max_iter=2500)\n",
    "\n",
    "# Fit the classifier to the training data\n",
    "clf1.fit(X_train, y_train)\n",
    "\n",
    "# Predict on the test data\n",
    "y_pred1 = clf1.predict(X_test)\n",
    "\n",
    "# Calculate the accuracy score\n",
    "accuracy1 = accuracy_score(y_test, y_pred1)\n",
    "\n",
    "# Print the accuracy score\n",
    "print(accuracy1)\n"
   ]
  },
  {
   "cell_type": "code",
   "execution_count": 37,
   "id": "248f0373",
   "metadata": {
    "execution": {
     "iopub.execute_input": "2024-04-02T05:34:14.059863Z",
     "iopub.status.busy": "2024-04-02T05:34:14.059140Z",
     "iopub.status.idle": "2024-04-02T05:36:49.797291Z",
     "shell.execute_reply": "2024-04-02T05:36:49.796167Z"
    },
    "papermill": {
     "duration": 155.821467,
     "end_time": "2024-04-02T05:36:49.825382",
     "exception": false,
     "start_time": "2024-04-02T05:34:14.003915",
     "status": "completed"
    },
    "tags": []
   },
   "outputs": [
    {
     "name": "stdout",
     "output_type": "stream",
     "text": [
      "0.7698662470495673\n"
     ]
    }
   ],
   "source": [
    "from sklearn.ensemble import RandomForestClassifier\n",
    "\n",
    "# Create a Random Forest classifier\n",
    "clf2 = RandomForestClassifier(n_estimators=500)\n",
    "\n",
    "# Fit the classifier to the training data\n",
    "clf2.fit(X_train, y_train)\n",
    "\n",
    "# Predict on the test data\n",
    "y_pred2 = clf2.predict(X_test)\n",
    "\n",
    "# Calculate the accuracy score\n",
    "accuracy2 = accuracy_score(y_test, y_pred2)\n",
    "\n",
    "# Print the accuracy score\n",
    "print(accuracy2)\n"
   ]
  },
  {
   "cell_type": "markdown",
   "id": "395b78e7",
   "metadata": {
    "papermill": {
     "duration": 0.024529,
     "end_time": "2024-04-02T05:36:49.874625",
     "exception": false,
     "start_time": "2024-04-02T05:36:49.850096",
     "status": "completed"
    },
    "tags": []
   },
   "source": [
    "# Checkpoint 1\n",
    "\n",
    "The accuracy in the random forest classifier is more than cutoff"
   ]
  },
  {
   "cell_type": "code",
   "execution_count": 38,
   "id": "a0acb413",
   "metadata": {
    "execution": {
     "iopub.execute_input": "2024-04-02T05:36:49.926314Z",
     "iopub.status.busy": "2024-04-02T05:36:49.925399Z",
     "iopub.status.idle": "2024-04-02T05:37:36.098664Z",
     "shell.execute_reply": "2024-04-02T05:37:36.088553Z"
    },
    "id": "QN_pnOTuIOlR",
    "outputId": "afa42b49-e830-40cd-8bc8-da4e7f5d60e4",
    "papermill": {
     "duration": 46.250894,
     "end_time": "2024-04-02T05:37:36.150241",
     "exception": false,
     "start_time": "2024-04-02T05:36:49.899347",
     "status": "completed"
    },
    "tags": []
   },
   "outputs": [
    {
     "name": "stdout",
     "output_type": "stream",
     "text": [
      "0.7730133752950433\n"
     ]
    }
   ],
   "source": [
    "from sklearn.linear_model import LogisticRegression\n",
    "\n",
    "# Create a Logistic Regression classifier\n",
    "clf3 = LogisticRegression(max_iter=1500)\n",
    "\n",
    "# Fit the classifier to the training data\n",
    "clf3.fit(X_train, y_train)\n",
    "\n",
    "# Predict on the test data\n",
    "y_pred3 = clf3.predict(X_test)\n",
    "\n",
    "# Calculate the accuracy score\n",
    "accuracy3 = accuracy_score(y_test, y_pred3)\n",
    "\n",
    "# Print the accuracy score\n",
    "print(accuracy3)\n"
   ]
  },
  {
   "cell_type": "markdown",
   "id": "66b6297f",
   "metadata": {
    "papermill": {
     "duration": 0.030318,
     "end_time": "2024-04-02T05:37:36.234459",
     "exception": false,
     "start_time": "2024-04-02T05:37:36.204141",
     "status": "completed"
    },
    "tags": []
   },
   "source": [
    "# Checkpoint 2\n",
    "\n",
    "The accuracy in the random forest classifier is more than cutoff"
   ]
  },
  {
   "cell_type": "code",
   "execution_count": 39,
   "id": "d0047381",
   "metadata": {
    "execution": {
     "iopub.execute_input": "2024-04-02T05:37:36.285302Z",
     "iopub.status.busy": "2024-04-02T05:37:36.284961Z",
     "iopub.status.idle": "2024-04-02T05:46:40.746005Z",
     "shell.execute_reply": "2024-04-02T05:46:40.745216Z"
    },
    "id": "T12iH0xv_z2K",
    "papermill": {
     "duration": 544.514773,
     "end_time": "2024-04-02T05:46:40.774002",
     "exception": false,
     "start_time": "2024-04-02T05:37:36.259229",
     "status": "completed"
    },
    "tags": []
   },
   "outputs": [
    {
     "name": "stdout",
     "output_type": "stream",
     "text": [
      "0.7734067663257278\n"
     ]
    }
   ],
   "source": [
    "from xgboost import XGBClassifier\n",
    "\n",
    "# Create a XGBoost classifier\n",
    "clf4 = XGBClassifier(n_estimators=500)\n",
    "\n",
    "# Fit the classifier to the training data\n",
    "clf4.fit(X_train, y_train)\n",
    "\n",
    "# Predict on the test data\n",
    "y_pred4 = clf4.predict(X_test)\n",
    "\n",
    "# Calculate the accuracy score\n",
    "accuracy4 = accuracy_score(y_test, y_pred4)\n",
    "\n",
    "# Print the accuracy score\n",
    "print(accuracy4)\n"
   ]
  },
  {
   "cell_type": "code",
   "execution_count": 40,
   "id": "f9a3b011",
   "metadata": {
    "execution": {
     "iopub.execute_input": "2024-04-02T05:46:40.826656Z",
     "iopub.status.busy": "2024-04-02T05:46:40.825984Z",
     "iopub.status.idle": "2024-04-02T05:46:40.830953Z",
     "shell.execute_reply": "2024-04-02T05:46:40.830055Z"
    },
    "papermill": {
     "duration": 0.033728,
     "end_time": "2024-04-02T05:46:40.832749",
     "exception": false,
     "start_time": "2024-04-02T05:46:40.799021",
     "status": "completed"
    },
    "tags": []
   },
   "outputs": [],
   "source": [
    "from sklearn.ensemble import StackingClassifier\n",
    "from sklearn.linear_model import LogisticRegression\n",
    "from sklearn.ensemble import RandomForestClassifier\n",
    "from sklearn.svm import LinearSVC\n",
    "from xgboost import XGBClassifier\n",
    "from sklearn.metrics import accuracy_score\n"
   ]
  },
  {
   "cell_type": "code",
   "execution_count": 41,
   "id": "9a1fcd0e",
   "metadata": {
    "execution": {
     "iopub.execute_input": "2024-04-02T05:46:40.883452Z",
     "iopub.status.busy": "2024-04-02T05:46:40.883198Z",
     "iopub.status.idle": "2024-04-02T07:01:29.515674Z",
     "shell.execute_reply": "2024-04-02T07:01:29.514804Z"
    },
    "id": "G3VJVO9oLK9h",
    "outputId": "ce6d8102-15c3-4171-b1b9-166729809eb6",
    "papermill": {
     "duration": 4488.696956,
     "end_time": "2024-04-02T07:01:29.554593",
     "exception": false,
     "start_time": "2024-04-02T05:46:40.857637",
     "status": "completed"
    },
    "tags": []
   },
   "outputs": [
    {
     "name": "stderr",
     "output_type": "stream",
     "text": [
      "/opt/conda/lib/python3.10/site-packages/sklearn/svm/_base.py:1244: ConvergenceWarning: Liblinear failed to converge, increase the number of iterations.\n",
      "  warnings.warn(\n",
      "/opt/conda/lib/python3.10/site-packages/sklearn/svm/_base.py:1244: ConvergenceWarning: Liblinear failed to converge, increase the number of iterations.\n",
      "  warnings.warn(\n",
      "/opt/conda/lib/python3.10/site-packages/sklearn/svm/_base.py:1244: ConvergenceWarning: Liblinear failed to converge, increase the number of iterations.\n",
      "  warnings.warn(\n",
      "/opt/conda/lib/python3.10/site-packages/sklearn/svm/_base.py:1244: ConvergenceWarning: Liblinear failed to converge, increase the number of iterations.\n",
      "  warnings.warn(\n",
      "/opt/conda/lib/python3.10/site-packages/sklearn/svm/_base.py:1244: ConvergenceWarning: Liblinear failed to converge, increase the number of iterations.\n",
      "  warnings.warn(\n",
      "/opt/conda/lib/python3.10/site-packages/sklearn/svm/_base.py:1244: ConvergenceWarning: Liblinear failed to converge, increase the number of iterations.\n",
      "  warnings.warn(\n"
     ]
    },
    {
     "name": "stdout",
     "output_type": "stream",
     "text": [
      "0.7808811959087333\n"
     ]
    }
   ],
   "source": [
    "# Define the base models\n",
    "estimators = [\n",
    "    ('rf', RandomForestClassifier(n_estimators=500)),\n",
    "    ('svc', LinearSVC(max_iter=2500)),\n",
    "    ('xgb', XGBClassifier(n_estimators=1000))\n",
    "]\n",
    "\n",
    "# Define the final model\n",
    "final_estimator = LogisticRegression(max_iter=1500)\n",
    "\n",
    "# Create the stacking classifier\n",
    "clf5 = StackingClassifier(\n",
    "    estimators=estimators,\n",
    "    final_estimator=final_estimator\n",
    ")\n",
    "\n",
    "# Fit the classifier to the training data\n",
    "clf5.fit(X_train, y_train)\n",
    "\n",
    "# Predict on the test data\n",
    "y_pred5 = clf5.predict(X_test)\n",
    "\n",
    "# Calculate the accuracy score\n",
    "accuracy5 = accuracy_score(y_test, y_pred5)\n",
    "\n",
    "# Print the accuracy score\n",
    "print(accuracy5)\n"
   ]
  },
  {
   "cell_type": "code",
   "execution_count": 42,
   "id": "035b6101",
   "metadata": {
    "execution": {
     "iopub.execute_input": "2024-04-02T07:01:29.646404Z",
     "iopub.status.busy": "2024-04-02T07:01:29.646055Z",
     "iopub.status.idle": "2024-04-02T08:05:59.592152Z",
     "shell.execute_reply": "2024-04-02T08:05:59.591120Z"
    },
    "papermill": {
     "duration": 3870.011764,
     "end_time": "2024-04-02T08:05:59.623372",
     "exception": false,
     "start_time": "2024-04-02T07:01:29.611608",
     "status": "completed"
    },
    "tags": []
   },
   "outputs": [
    {
     "name": "stderr",
     "output_type": "stream",
     "text": [
      "/opt/conda/lib/python3.10/site-packages/sklearn/svm/_base.py:1244: ConvergenceWarning: Liblinear failed to converge, increase the number of iterations.\n",
      "  warnings.warn(\n",
      "/opt/conda/lib/python3.10/site-packages/sklearn/svm/_base.py:1244: ConvergenceWarning: Liblinear failed to converge, increase the number of iterations.\n",
      "  warnings.warn(\n",
      "/opt/conda/lib/python3.10/site-packages/sklearn/svm/_base.py:1244: ConvergenceWarning: Liblinear failed to converge, increase the number of iterations.\n",
      "  warnings.warn(\n",
      "/opt/conda/lib/python3.10/site-packages/sklearn/svm/_base.py:1244: ConvergenceWarning: Liblinear failed to converge, increase the number of iterations.\n",
      "  warnings.warn(\n",
      "/opt/conda/lib/python3.10/site-packages/sklearn/svm/_base.py:1244: ConvergenceWarning: Liblinear failed to converge, increase the number of iterations.\n",
      "  warnings.warn(\n",
      "/opt/conda/lib/python3.10/site-packages/sklearn/svm/_base.py:1244: ConvergenceWarning: Liblinear failed to converge, increase the number of iterations.\n",
      "  warnings.warn(\n"
     ]
    },
    {
     "name": "stdout",
     "output_type": "stream",
     "text": [
      "0.7781274586939417\n"
     ]
    }
   ],
   "source": [
    "# Define the base models\n",
    "estimators = [\n",
    "    ('lr', LogisticRegression(max_iter=1500)),\n",
    "    ('svc', LinearSVC(max_iter=2500)),\n",
    "    ('xgb', XGBClassifier(n_estimators=1000))\n",
    "]\n",
    "\n",
    "# Define the final model\n",
    "final_estimator = RandomForestClassifier(n_estimators=500)\n",
    "\n",
    "# Create the stacking classifier\n",
    "clf6 = StackingClassifier(\n",
    "    estimators=estimators,\n",
    "    final_estimator=final_estimator\n",
    ")\n",
    "\n",
    "# Fit the classifier to the training data\n",
    "clf6.fit(X_train, y_train)\n",
    "\n",
    "# Predict on the test data\n",
    "y_pred6 = clf6.predict(X_test)\n",
    "\n",
    "# Calculate the accuracy score\n",
    "accuracy6 = accuracy_score(y_test, y_pred6)\n",
    "\n",
    "# Print the accuracy score\n",
    "print(accuracy6)"
   ]
  },
  {
   "cell_type": "markdown",
   "id": "bf431954",
   "metadata": {
    "papermill": {
     "duration": 0.025793,
     "end_time": "2024-04-02T08:05:59.675423",
     "exception": false,
     "start_time": "2024-04-02T08:05:59.649630",
     "status": "completed"
    },
    "tags": []
   },
   "source": [
    "# Preparing test.csv for final prediction\n",
    "\n",
    "As we performed pre processing on the train data-set , we need to perform the same , pre processing on the test dataset as well and fit the data on the best model for prediction."
   ]
  },
  {
   "cell_type": "code",
   "execution_count": 43,
   "id": "9f30603e",
   "metadata": {
    "execution": {
     "iopub.execute_input": "2024-04-02T08:05:59.729545Z",
     "iopub.status.busy": "2024-04-02T08:05:59.728605Z",
     "iopub.status.idle": "2024-04-02T08:05:59.734754Z",
     "shell.execute_reply": "2024-04-02T08:05:59.733786Z"
    },
    "id": "EqysrTZbifw9",
    "papermill": {
     "duration": 0.035379,
     "end_time": "2024-04-02T08:05:59.736768",
     "exception": false,
     "start_time": "2024-04-02T08:05:59.701389",
     "status": "completed"
    },
    "tags": []
   },
   "outputs": [],
   "source": [
    "test_final = test_data[['UserReputation', 'ReplyCount', 'ThumbsUpCount', 'ThumbsDownCount' , 'BestScore', 'Recipe_Review']]"
   ]
  },
  {
   "cell_type": "code",
   "execution_count": 44,
   "id": "3dcac6a2",
   "metadata": {
    "execution": {
     "iopub.execute_input": "2024-04-02T08:05:59.790005Z",
     "iopub.status.busy": "2024-04-02T08:05:59.789663Z",
     "iopub.status.idle": "2024-04-02T08:05:59.800050Z",
     "shell.execute_reply": "2024-04-02T08:05:59.799031Z"
    },
    "papermill": {
     "duration": 0.03942,
     "end_time": "2024-04-02T08:05:59.802192",
     "exception": false,
     "start_time": "2024-04-02T08:05:59.762772",
     "status": "completed"
    },
    "tags": []
   },
   "outputs": [
    {
     "name": "stderr",
     "output_type": "stream",
     "text": [
      "/tmp/ipykernel_26/1549346602.py:6: SettingWithCopyWarning: \n",
      "A value is trying to be set on a copy of a slice from a DataFrame.\n",
      "Try using .loc[row_indexer,col_indexer] = value instead\n",
      "\n",
      "See the caveats in the documentation: https://pandas.pydata.org/pandas-docs/stable/user_guide/indexing.html#returning-a-view-versus-a-copy\n",
      "  test_final[numeric_features] = scaler.fit_transform(test_final[numeric_features])\n"
     ]
    }
   ],
   "source": [
    "# Define the columns to scale\n",
    "numeric_features = ['UserReputation', 'ReplyCount', 'ThumbsUpCount', 'ThumbsDownCount', 'BestScore']\n",
    "\n",
    "\n",
    "# Fit and transform the data\n",
    "test_final[numeric_features] = scaler.fit_transform(test_final[numeric_features])\n"
   ]
  },
  {
   "cell_type": "code",
   "execution_count": 45,
   "id": "f600ae20",
   "metadata": {
    "execution": {
     "iopub.execute_input": "2024-04-02T08:05:59.855436Z",
     "iopub.status.busy": "2024-04-02T08:05:59.855172Z",
     "iopub.status.idle": "2024-04-02T08:06:00.038239Z",
     "shell.execute_reply": "2024-04-02T08:06:00.037206Z"
    },
    "papermill": {
     "duration": 0.212015,
     "end_time": "2024-04-02T08:06:00.040200",
     "exception": false,
     "start_time": "2024-04-02T08:05:59.828185",
     "status": "completed"
    },
    "tags": []
   },
   "outputs": [
    {
     "name": "stdout",
     "output_type": "stream",
     "text": [
      "(4546, 6151)\n"
     ]
    }
   ],
   "source": [
    "# Fit and transform the 'Recipe_Review' column\n",
    "final_review = vectorizer.transform(test_final['Recipe_Review'])\n",
    "\n",
    "# Print the shape of the transformed data\n",
    "print(final_review.shape)"
   ]
  },
  {
   "cell_type": "code",
   "execution_count": 46,
   "id": "483fe78a",
   "metadata": {
    "execution": {
     "iopub.execute_input": "2024-04-02T08:06:00.094952Z",
     "iopub.status.busy": "2024-04-02T08:06:00.094642Z",
     "iopub.status.idle": "2024-04-02T08:06:00.314679Z",
     "shell.execute_reply": "2024-04-02T08:06:00.313567Z"
    },
    "papermill": {
     "duration": 0.249649,
     "end_time": "2024-04-02T08:06:00.316667",
     "exception": false,
     "start_time": "2024-04-02T08:06:00.067018",
     "status": "completed"
    },
    "tags": []
   },
   "outputs": [
    {
     "data": {
      "text/html": [
       "<div>\n",
       "<style scoped>\n",
       "    .dataframe tbody tr th:only-of-type {\n",
       "        vertical-align: middle;\n",
       "    }\n",
       "\n",
       "    .dataframe tbody tr th {\n",
       "        vertical-align: top;\n",
       "    }\n",
       "\n",
       "    .dataframe thead th {\n",
       "        text-align: right;\n",
       "    }\n",
       "</style>\n",
       "<table border=\"1\" class=\"dataframe\">\n",
       "  <thead>\n",
       "    <tr style=\"text-align: right;\">\n",
       "      <th></th>\n",
       "      <th>00</th>\n",
       "      <th>02</th>\n",
       "      <th>03</th>\n",
       "      <th>05</th>\n",
       "      <th>08</th>\n",
       "      <th>10</th>\n",
       "      <th>100</th>\n",
       "      <th>10x</th>\n",
       "      <th>10x13</th>\n",
       "      <th>11</th>\n",
       "      <th>...</th>\n",
       "      <th>ziplock</th>\n",
       "      <th>zipper</th>\n",
       "      <th>zippy</th>\n",
       "      <th>zoodles</th>\n",
       "      <th>zucc</th>\n",
       "      <th>zucchini</th>\n",
       "      <th>zucchinis</th>\n",
       "      <th>zuchini</th>\n",
       "      <th>zuchinni</th>\n",
       "      <th>zucs</th>\n",
       "    </tr>\n",
       "  </thead>\n",
       "  <tbody>\n",
       "    <tr>\n",
       "      <th>0</th>\n",
       "      <td>0.0</td>\n",
       "      <td>0.0</td>\n",
       "      <td>0.0</td>\n",
       "      <td>0.0</td>\n",
       "      <td>0.0</td>\n",
       "      <td>0.000000</td>\n",
       "      <td>0.0</td>\n",
       "      <td>0.0</td>\n",
       "      <td>0.0</td>\n",
       "      <td>0.0</td>\n",
       "      <td>...</td>\n",
       "      <td>0.0</td>\n",
       "      <td>0.0</td>\n",
       "      <td>0.0</td>\n",
       "      <td>0.0</td>\n",
       "      <td>0.0</td>\n",
       "      <td>0.0</td>\n",
       "      <td>0.0</td>\n",
       "      <td>0.0</td>\n",
       "      <td>0.0</td>\n",
       "      <td>0.0</td>\n",
       "    </tr>\n",
       "    <tr>\n",
       "      <th>1</th>\n",
       "      <td>0.0</td>\n",
       "      <td>0.0</td>\n",
       "      <td>0.0</td>\n",
       "      <td>0.0</td>\n",
       "      <td>0.0</td>\n",
       "      <td>0.000000</td>\n",
       "      <td>0.0</td>\n",
       "      <td>0.0</td>\n",
       "      <td>0.0</td>\n",
       "      <td>0.0</td>\n",
       "      <td>...</td>\n",
       "      <td>0.0</td>\n",
       "      <td>0.0</td>\n",
       "      <td>0.0</td>\n",
       "      <td>0.0</td>\n",
       "      <td>0.0</td>\n",
       "      <td>0.0</td>\n",
       "      <td>0.0</td>\n",
       "      <td>0.0</td>\n",
       "      <td>0.0</td>\n",
       "      <td>0.0</td>\n",
       "    </tr>\n",
       "    <tr>\n",
       "      <th>2</th>\n",
       "      <td>0.0</td>\n",
       "      <td>0.0</td>\n",
       "      <td>0.0</td>\n",
       "      <td>0.0</td>\n",
       "      <td>0.0</td>\n",
       "      <td>0.000000</td>\n",
       "      <td>0.0</td>\n",
       "      <td>0.0</td>\n",
       "      <td>0.0</td>\n",
       "      <td>0.0</td>\n",
       "      <td>...</td>\n",
       "      <td>0.0</td>\n",
       "      <td>0.0</td>\n",
       "      <td>0.0</td>\n",
       "      <td>0.0</td>\n",
       "      <td>0.0</td>\n",
       "      <td>0.0</td>\n",
       "      <td>0.0</td>\n",
       "      <td>0.0</td>\n",
       "      <td>0.0</td>\n",
       "      <td>0.0</td>\n",
       "    </tr>\n",
       "    <tr>\n",
       "      <th>3</th>\n",
       "      <td>0.0</td>\n",
       "      <td>0.0</td>\n",
       "      <td>0.0</td>\n",
       "      <td>0.0</td>\n",
       "      <td>0.0</td>\n",
       "      <td>0.000000</td>\n",
       "      <td>0.0</td>\n",
       "      <td>0.0</td>\n",
       "      <td>0.0</td>\n",
       "      <td>0.0</td>\n",
       "      <td>...</td>\n",
       "      <td>0.0</td>\n",
       "      <td>0.0</td>\n",
       "      <td>0.0</td>\n",
       "      <td>0.0</td>\n",
       "      <td>0.0</td>\n",
       "      <td>0.0</td>\n",
       "      <td>0.0</td>\n",
       "      <td>0.0</td>\n",
       "      <td>0.0</td>\n",
       "      <td>0.0</td>\n",
       "    </tr>\n",
       "    <tr>\n",
       "      <th>4</th>\n",
       "      <td>0.0</td>\n",
       "      <td>0.0</td>\n",
       "      <td>0.0</td>\n",
       "      <td>0.0</td>\n",
       "      <td>0.0</td>\n",
       "      <td>0.144895</td>\n",
       "      <td>0.0</td>\n",
       "      <td>0.0</td>\n",
       "      <td>0.0</td>\n",
       "      <td>0.0</td>\n",
       "      <td>...</td>\n",
       "      <td>0.0</td>\n",
       "      <td>0.0</td>\n",
       "      <td>0.0</td>\n",
       "      <td>0.0</td>\n",
       "      <td>0.0</td>\n",
       "      <td>0.0</td>\n",
       "      <td>0.0</td>\n",
       "      <td>0.0</td>\n",
       "      <td>0.0</td>\n",
       "      <td>0.0</td>\n",
       "    </tr>\n",
       "    <tr>\n",
       "      <th>...</th>\n",
       "      <td>...</td>\n",
       "      <td>...</td>\n",
       "      <td>...</td>\n",
       "      <td>...</td>\n",
       "      <td>...</td>\n",
       "      <td>...</td>\n",
       "      <td>...</td>\n",
       "      <td>...</td>\n",
       "      <td>...</td>\n",
       "      <td>...</td>\n",
       "      <td>...</td>\n",
       "      <td>...</td>\n",
       "      <td>...</td>\n",
       "      <td>...</td>\n",
       "      <td>...</td>\n",
       "      <td>...</td>\n",
       "      <td>...</td>\n",
       "      <td>...</td>\n",
       "      <td>...</td>\n",
       "      <td>...</td>\n",
       "      <td>...</td>\n",
       "    </tr>\n",
       "    <tr>\n",
       "      <th>4541</th>\n",
       "      <td>0.0</td>\n",
       "      <td>0.0</td>\n",
       "      <td>0.0</td>\n",
       "      <td>0.0</td>\n",
       "      <td>0.0</td>\n",
       "      <td>0.000000</td>\n",
       "      <td>0.0</td>\n",
       "      <td>0.0</td>\n",
       "      <td>0.0</td>\n",
       "      <td>0.0</td>\n",
       "      <td>...</td>\n",
       "      <td>0.0</td>\n",
       "      <td>0.0</td>\n",
       "      <td>0.0</td>\n",
       "      <td>0.0</td>\n",
       "      <td>0.0</td>\n",
       "      <td>0.0</td>\n",
       "      <td>0.0</td>\n",
       "      <td>0.0</td>\n",
       "      <td>0.0</td>\n",
       "      <td>0.0</td>\n",
       "    </tr>\n",
       "    <tr>\n",
       "      <th>4542</th>\n",
       "      <td>0.0</td>\n",
       "      <td>0.0</td>\n",
       "      <td>0.0</td>\n",
       "      <td>0.0</td>\n",
       "      <td>0.0</td>\n",
       "      <td>0.000000</td>\n",
       "      <td>0.0</td>\n",
       "      <td>0.0</td>\n",
       "      <td>0.0</td>\n",
       "      <td>0.0</td>\n",
       "      <td>...</td>\n",
       "      <td>0.0</td>\n",
       "      <td>0.0</td>\n",
       "      <td>0.0</td>\n",
       "      <td>0.0</td>\n",
       "      <td>0.0</td>\n",
       "      <td>0.0</td>\n",
       "      <td>0.0</td>\n",
       "      <td>0.0</td>\n",
       "      <td>0.0</td>\n",
       "      <td>0.0</td>\n",
       "    </tr>\n",
       "    <tr>\n",
       "      <th>4543</th>\n",
       "      <td>0.0</td>\n",
       "      <td>0.0</td>\n",
       "      <td>0.0</td>\n",
       "      <td>0.0</td>\n",
       "      <td>0.0</td>\n",
       "      <td>0.000000</td>\n",
       "      <td>0.0</td>\n",
       "      <td>0.0</td>\n",
       "      <td>0.0</td>\n",
       "      <td>0.0</td>\n",
       "      <td>...</td>\n",
       "      <td>0.0</td>\n",
       "      <td>0.0</td>\n",
       "      <td>0.0</td>\n",
       "      <td>0.0</td>\n",
       "      <td>0.0</td>\n",
       "      <td>0.0</td>\n",
       "      <td>0.0</td>\n",
       "      <td>0.0</td>\n",
       "      <td>0.0</td>\n",
       "      <td>0.0</td>\n",
       "    </tr>\n",
       "    <tr>\n",
       "      <th>4544</th>\n",
       "      <td>0.0</td>\n",
       "      <td>0.0</td>\n",
       "      <td>0.0</td>\n",
       "      <td>0.0</td>\n",
       "      <td>0.0</td>\n",
       "      <td>0.000000</td>\n",
       "      <td>0.0</td>\n",
       "      <td>0.0</td>\n",
       "      <td>0.0</td>\n",
       "      <td>0.0</td>\n",
       "      <td>...</td>\n",
       "      <td>0.0</td>\n",
       "      <td>0.0</td>\n",
       "      <td>0.0</td>\n",
       "      <td>0.0</td>\n",
       "      <td>0.0</td>\n",
       "      <td>0.0</td>\n",
       "      <td>0.0</td>\n",
       "      <td>0.0</td>\n",
       "      <td>0.0</td>\n",
       "      <td>0.0</td>\n",
       "    </tr>\n",
       "    <tr>\n",
       "      <th>4545</th>\n",
       "      <td>0.0</td>\n",
       "      <td>0.0</td>\n",
       "      <td>0.0</td>\n",
       "      <td>0.0</td>\n",
       "      <td>0.0</td>\n",
       "      <td>0.000000</td>\n",
       "      <td>0.0</td>\n",
       "      <td>0.0</td>\n",
       "      <td>0.0</td>\n",
       "      <td>0.0</td>\n",
       "      <td>...</td>\n",
       "      <td>0.0</td>\n",
       "      <td>0.0</td>\n",
       "      <td>0.0</td>\n",
       "      <td>0.0</td>\n",
       "      <td>0.0</td>\n",
       "      <td>0.0</td>\n",
       "      <td>0.0</td>\n",
       "      <td>0.0</td>\n",
       "      <td>0.0</td>\n",
       "      <td>0.0</td>\n",
       "    </tr>\n",
       "  </tbody>\n",
       "</table>\n",
       "<p>4546 rows × 6151 columns</p>\n",
       "</div>"
      ],
      "text/plain": [
       "       00   02   03   05   08        10  100  10x  10x13   11  ...  ziplock  \\\n",
       "0     0.0  0.0  0.0  0.0  0.0  0.000000  0.0  0.0    0.0  0.0  ...      0.0   \n",
       "1     0.0  0.0  0.0  0.0  0.0  0.000000  0.0  0.0    0.0  0.0  ...      0.0   \n",
       "2     0.0  0.0  0.0  0.0  0.0  0.000000  0.0  0.0    0.0  0.0  ...      0.0   \n",
       "3     0.0  0.0  0.0  0.0  0.0  0.000000  0.0  0.0    0.0  0.0  ...      0.0   \n",
       "4     0.0  0.0  0.0  0.0  0.0  0.144895  0.0  0.0    0.0  0.0  ...      0.0   \n",
       "...   ...  ...  ...  ...  ...       ...  ...  ...    ...  ...  ...      ...   \n",
       "4541  0.0  0.0  0.0  0.0  0.0  0.000000  0.0  0.0    0.0  0.0  ...      0.0   \n",
       "4542  0.0  0.0  0.0  0.0  0.0  0.000000  0.0  0.0    0.0  0.0  ...      0.0   \n",
       "4543  0.0  0.0  0.0  0.0  0.0  0.000000  0.0  0.0    0.0  0.0  ...      0.0   \n",
       "4544  0.0  0.0  0.0  0.0  0.0  0.000000  0.0  0.0    0.0  0.0  ...      0.0   \n",
       "4545  0.0  0.0  0.0  0.0  0.0  0.000000  0.0  0.0    0.0  0.0  ...      0.0   \n",
       "\n",
       "      zipper  zippy  zoodles  zucc  zucchini  zucchinis  zuchini  zuchinni  \\\n",
       "0        0.0    0.0      0.0   0.0       0.0        0.0      0.0       0.0   \n",
       "1        0.0    0.0      0.0   0.0       0.0        0.0      0.0       0.0   \n",
       "2        0.0    0.0      0.0   0.0       0.0        0.0      0.0       0.0   \n",
       "3        0.0    0.0      0.0   0.0       0.0        0.0      0.0       0.0   \n",
       "4        0.0    0.0      0.0   0.0       0.0        0.0      0.0       0.0   \n",
       "...      ...    ...      ...   ...       ...        ...      ...       ...   \n",
       "4541     0.0    0.0      0.0   0.0       0.0        0.0      0.0       0.0   \n",
       "4542     0.0    0.0      0.0   0.0       0.0        0.0      0.0       0.0   \n",
       "4543     0.0    0.0      0.0   0.0       0.0        0.0      0.0       0.0   \n",
       "4544     0.0    0.0      0.0   0.0       0.0        0.0      0.0       0.0   \n",
       "4545     0.0    0.0      0.0   0.0       0.0        0.0      0.0       0.0   \n",
       "\n",
       "      zucs  \n",
       "0      0.0  \n",
       "1      0.0  \n",
       "2      0.0  \n",
       "3      0.0  \n",
       "4      0.0  \n",
       "...    ...  \n",
       "4541   0.0  \n",
       "4542   0.0  \n",
       "4543   0.0  \n",
       "4544   0.0  \n",
       "4545   0.0  \n",
       "\n",
       "[4546 rows x 6151 columns]"
      ]
     },
     "execution_count": 46,
     "metadata": {},
     "output_type": "execute_result"
    }
   ],
   "source": [
    "final_review_df = pd.DataFrame(final_review.toarray(), columns=vectorizer.get_feature_names_out())\n",
    "\n",
    "final_review_df"
   ]
  },
  {
   "cell_type": "code",
   "execution_count": 47,
   "id": "fcc940c3",
   "metadata": {
    "execution": {
     "iopub.execute_input": "2024-04-02T08:06:00.372477Z",
     "iopub.status.busy": "2024-04-02T08:06:00.371848Z",
     "iopub.status.idle": "2024-04-02T08:06:00.377276Z",
     "shell.execute_reply": "2024-04-02T08:06:00.376385Z"
    },
    "papermill": {
     "duration": 0.035122,
     "end_time": "2024-04-02T08:06:00.379219",
     "exception": false,
     "start_time": "2024-04-02T08:06:00.344097",
     "status": "completed"
    },
    "tags": []
   },
   "outputs": [
    {
     "data": {
      "text/plain": [
       "(4546, 6)"
      ]
     },
     "execution_count": 47,
     "metadata": {},
     "output_type": "execute_result"
    }
   ],
   "source": [
    "test_final.shape"
   ]
  },
  {
   "cell_type": "code",
   "execution_count": 48,
   "id": "8a9a9988",
   "metadata": {
    "execution": {
     "iopub.execute_input": "2024-04-02T08:06:00.434377Z",
     "iopub.status.busy": "2024-04-02T08:06:00.434091Z",
     "iopub.status.idle": "2024-04-02T08:06:00.877456Z",
     "shell.execute_reply": "2024-04-02T08:06:00.876648Z"
    },
    "papermill": {
     "duration": 0.473501,
     "end_time": "2024-04-02T08:06:00.879635",
     "exception": false,
     "start_time": "2024-04-02T08:06:00.406134",
     "status": "completed"
    },
    "tags": []
   },
   "outputs": [],
   "source": [
    "test_final = pd.concat([test_final.reset_index(drop=True), final_review_df.reset_index(drop=True)], axis=1)"
   ]
  },
  {
   "cell_type": "code",
   "execution_count": 49,
   "id": "e069ccb1",
   "metadata": {
    "execution": {
     "iopub.execute_input": "2024-04-02T08:06:00.936727Z",
     "iopub.status.busy": "2024-04-02T08:06:00.936418Z",
     "iopub.status.idle": "2024-04-02T08:06:00.942003Z",
     "shell.execute_reply": "2024-04-02T08:06:00.941182Z"
    },
    "papermill": {
     "duration": 0.036652,
     "end_time": "2024-04-02T08:06:00.943862",
     "exception": false,
     "start_time": "2024-04-02T08:06:00.907210",
     "status": "completed"
    },
    "tags": []
   },
   "outputs": [
    {
     "data": {
      "text/plain": [
       "(4546, 6157)"
      ]
     },
     "execution_count": 49,
     "metadata": {},
     "output_type": "execute_result"
    }
   ],
   "source": [
    "test_final.shape"
   ]
  },
  {
   "cell_type": "code",
   "execution_count": 50,
   "id": "b3926a93",
   "metadata": {
    "execution": {
     "iopub.execute_input": "2024-04-02T08:06:00.998808Z",
     "iopub.status.busy": "2024-04-02T08:06:00.998502Z",
     "iopub.status.idle": "2024-04-02T08:06:01.002956Z",
     "shell.execute_reply": "2024-04-02T08:06:01.002088Z"
    },
    "papermill": {
     "duration": 0.034062,
     "end_time": "2024-04-02T08:06:01.004943",
     "exception": false,
     "start_time": "2024-04-02T08:06:00.970881",
     "status": "completed"
    },
    "tags": []
   },
   "outputs": [],
   "source": [
    "test_final.columns = test_final.columns.astype(str)"
   ]
  },
  {
   "cell_type": "code",
   "execution_count": 51,
   "id": "3675573f",
   "metadata": {
    "execution": {
     "iopub.execute_input": "2024-04-02T08:06:01.060054Z",
     "iopub.status.busy": "2024-04-02T08:06:01.059765Z",
     "iopub.status.idle": "2024-04-02T08:06:01.130487Z",
     "shell.execute_reply": "2024-04-02T08:06:01.129700Z"
    },
    "papermill": {
     "duration": 0.100924,
     "end_time": "2024-04-02T08:06:01.132757",
     "exception": false,
     "start_time": "2024-04-02T08:06:01.031833",
     "status": "completed"
    },
    "tags": []
   },
   "outputs": [],
   "source": [
    "test_final = test_final.drop(['Recipe_Review'], axis=1)"
   ]
  },
  {
   "cell_type": "code",
   "execution_count": 52,
   "id": "f219a037",
   "metadata": {
    "execution": {
     "iopub.execute_input": "2024-04-02T08:06:01.188510Z",
     "iopub.status.busy": "2024-04-02T08:06:01.188202Z",
     "iopub.status.idle": "2024-04-02T08:06:05.126162Z",
     "shell.execute_reply": "2024-04-02T08:06:05.124722Z"
    },
    "papermill": {
     "duration": 3.970036,
     "end_time": "2024-04-02T08:06:05.130179",
     "exception": false,
     "start_time": "2024-04-02T08:06:01.160143",
     "status": "completed"
    },
    "tags": []
   },
   "outputs": [],
   "source": [
    "# Predict on the test data\n",
    "final_pred = clf5.predict(test_final)"
   ]
  },
  {
   "cell_type": "markdown",
   "id": "f7984e04",
   "metadata": {
    "papermill": {
     "duration": 0.058337,
     "end_time": "2024-04-02T08:06:05.241702",
     "exception": false,
     "start_time": "2024-04-02T08:06:05.183365",
     "status": "completed"
    },
    "tags": []
   },
   "source": [
    "# Saving the final submission file\n",
    "\n",
    "while keeping in mind that we had 2 columns , 'ID' and 'Rating' in the sample.csv file , we need to create a similar submission file. One more thing to keep in mind is , 'ID' column starts from 1 and not 0."
   ]
  },
  {
   "cell_type": "code",
   "execution_count": 53,
   "id": "6e783d36",
   "metadata": {
    "execution": {
     "iopub.execute_input": "2024-04-02T08:06:05.299569Z",
     "iopub.status.busy": "2024-04-02T08:06:05.299227Z",
     "iopub.status.idle": "2024-04-02T08:06:05.333607Z",
     "shell.execute_reply": "2024-04-02T08:06:05.332701Z"
    },
    "papermill": {
     "duration": 0.064277,
     "end_time": "2024-04-02T08:06:05.335550",
     "exception": false,
     "start_time": "2024-04-02T08:06:05.271273",
     "status": "completed"
    },
    "tags": []
   },
   "outputs": [],
   "source": [
    "submission=pd.DataFrame(columns=['ID', 'Rating'])\n",
    "submission['ID']=[i+1 for i in range(len(final_pred))]\n",
    "submission[\"Rating\"]=[i for i in final_pred]\n",
    "submission.to_csv('/kaggle/working/submission.csv',index=False)"
   ]
  },
  {
   "cell_type": "code",
   "execution_count": 54,
   "id": "1335d93d",
   "metadata": {
    "execution": {
     "iopub.execute_input": "2024-04-02T08:06:05.392259Z",
     "iopub.status.busy": "2024-04-02T08:06:05.391968Z",
     "iopub.status.idle": "2024-04-02T08:06:05.401296Z",
     "shell.execute_reply": "2024-04-02T08:06:05.400424Z"
    },
    "papermill": {
     "duration": 0.039567,
     "end_time": "2024-04-02T08:06:05.403330",
     "exception": false,
     "start_time": "2024-04-02T08:06:05.363763",
     "status": "completed"
    },
    "tags": []
   },
   "outputs": [
    {
     "data": {
      "text/html": [
       "<div>\n",
       "<style scoped>\n",
       "    .dataframe tbody tr th:only-of-type {\n",
       "        vertical-align: middle;\n",
       "    }\n",
       "\n",
       "    .dataframe tbody tr th {\n",
       "        vertical-align: top;\n",
       "    }\n",
       "\n",
       "    .dataframe thead th {\n",
       "        text-align: right;\n",
       "    }\n",
       "</style>\n",
       "<table border=\"1\" class=\"dataframe\">\n",
       "  <thead>\n",
       "    <tr style=\"text-align: right;\">\n",
       "      <th></th>\n",
       "      <th>ID</th>\n",
       "      <th>Rating</th>\n",
       "    </tr>\n",
       "  </thead>\n",
       "  <tbody>\n",
       "    <tr>\n",
       "      <th>0</th>\n",
       "      <td>1</td>\n",
       "      <td>5</td>\n",
       "    </tr>\n",
       "    <tr>\n",
       "      <th>1</th>\n",
       "      <td>2</td>\n",
       "      <td>5</td>\n",
       "    </tr>\n",
       "    <tr>\n",
       "      <th>2</th>\n",
       "      <td>3</td>\n",
       "      <td>5</td>\n",
       "    </tr>\n",
       "    <tr>\n",
       "      <th>3</th>\n",
       "      <td>4</td>\n",
       "      <td>1</td>\n",
       "    </tr>\n",
       "    <tr>\n",
       "      <th>4</th>\n",
       "      <td>5</td>\n",
       "      <td>5</td>\n",
       "    </tr>\n",
       "    <tr>\n",
       "      <th>...</th>\n",
       "      <td>...</td>\n",
       "      <td>...</td>\n",
       "    </tr>\n",
       "    <tr>\n",
       "      <th>4541</th>\n",
       "      <td>4542</td>\n",
       "      <td>5</td>\n",
       "    </tr>\n",
       "    <tr>\n",
       "      <th>4542</th>\n",
       "      <td>4543</td>\n",
       "      <td>5</td>\n",
       "    </tr>\n",
       "    <tr>\n",
       "      <th>4543</th>\n",
       "      <td>4544</td>\n",
       "      <td>5</td>\n",
       "    </tr>\n",
       "    <tr>\n",
       "      <th>4544</th>\n",
       "      <td>4545</td>\n",
       "      <td>1</td>\n",
       "    </tr>\n",
       "    <tr>\n",
       "      <th>4545</th>\n",
       "      <td>4546</td>\n",
       "      <td>5</td>\n",
       "    </tr>\n",
       "  </tbody>\n",
       "</table>\n",
       "<p>4546 rows × 2 columns</p>\n",
       "</div>"
      ],
      "text/plain": [
       "        ID  Rating\n",
       "0        1       5\n",
       "1        2       5\n",
       "2        3       5\n",
       "3        4       1\n",
       "4        5       5\n",
       "...    ...     ...\n",
       "4541  4542       5\n",
       "4542  4543       5\n",
       "4543  4544       5\n",
       "4544  4545       1\n",
       "4545  4546       5\n",
       "\n",
       "[4546 rows x 2 columns]"
      ]
     },
     "execution_count": 54,
     "metadata": {},
     "output_type": "execute_result"
    }
   ],
   "source": [
    "submission"
   ]
  },
  {
   "cell_type": "code",
   "execution_count": null,
   "id": "805f7c23",
   "metadata": {
    "papermill": {
     "duration": 0.027226,
     "end_time": "2024-04-02T08:06:05.458029",
     "exception": false,
     "start_time": "2024-04-02T08:06:05.430803",
     "status": "completed"
    },
    "tags": []
   },
   "outputs": [],
   "source": []
  }
 ],
 "metadata": {
  "accelerator": "GPU",
  "colab": {
   "gpuType": "T4",
   "provenance": []
  },
  "kaggle": {
   "accelerator": "gpu",
   "dataSources": [
    {
     "databundleVersionId": 7452256,
     "sourceId": 67079,
     "sourceType": "competition"
    }
   ],
   "dockerImageVersionId": 30664,
   "isGpuEnabled": true,
   "isInternetEnabled": true,
   "language": "python",
   "sourceType": "notebook"
  },
  "kernelspec": {
   "display_name": "Python 3",
   "language": "python",
   "name": "python3"
  },
  "language_info": {
   "codemirror_mode": {
    "name": "ipython",
    "version": 3
   },
   "file_extension": ".py",
   "mimetype": "text/x-python",
   "name": "python",
   "nbconvert_exporter": "python",
   "pygments_lexer": "ipython3",
   "version": "3.10.13"
  },
  "papermill": {
   "default_parameters": {},
   "duration": 9137.703164,
   "end_time": "2024-04-02T08:06:06.223145",
   "environment_variables": {},
   "exception": null,
   "input_path": "__notebook__.ipynb",
   "output_path": "__notebook__.ipynb",
   "parameters": {},
   "start_time": "2024-04-02T05:33:48.519981",
   "version": "2.5.0"
  }
 },
 "nbformat": 4,
 "nbformat_minor": 5
}
